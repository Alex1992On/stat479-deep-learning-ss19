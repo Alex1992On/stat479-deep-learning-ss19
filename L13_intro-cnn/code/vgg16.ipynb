{
 "cells": [
  {
   "cell_type": "markdown",
   "metadata": {
    "colab_type": "text",
    "id": "UEBilEjLj5wY"
   },
   "source": [
    "STAT 479: Deep Learning (Spring 2019)\n",
    "Instructor: Sebastian Raschka (sraschka@wisc.edu)\n",
    "- Course website: http://pages.stat.wisc.edu/~sraschka/teaching/stat479-ss2019/ \n",
    "- GitHub repository: https://github.com/rasbt/stat479-deep-learning-ss19"
   ]
  },
  {
   "cell_type": "code",
   "execution_count": 1,
   "metadata": {
    "colab": {
     "autoexec": {
      "startup": false,
      "wait_interval": 0
     },
     "base_uri": "https://localhost:8080/",
     "height": 119
    },
    "colab_type": "code",
    "executionInfo": {
     "elapsed": 536,
     "status": "ok",
     "timestamp": 1524974472601,
     "user": {
      "displayName": "Sebastian Raschka",
      "photoUrl": "//lh6.googleusercontent.com/-cxK6yOSQ6uE/AAAAAAAAAAI/AAAAAAAAIfw/P9ar_CHsKOQ/s50-c-k-no/photo.jpg",
      "userId": "118404394130788869227"
     },
     "user_tz": 240
    },
    "id": "GOzuY8Yvj5wb",
    "outputId": "c19362ce-f87a-4cc2-84cc-8d7b4b9e6007"
   },
   "outputs": [
    {
     "name": "stdout",
     "output_type": "stream",
     "text": [
      "Sebastian Raschka \n",
      "\n",
      "CPython 3.6.8\n",
      "IPython 7.2.0\n",
      "\n",
      "torch 1.0.1.post2\n"
     ]
    }
   ],
   "source": [
    "%load_ext watermark\n",
    "%watermark -a 'Sebastian Raschka' -v -p torch"
   ]
  },
  {
   "cell_type": "markdown",
   "metadata": {
    "colab_type": "text",
    "id": "MEu9MiOxj5wk"
   },
   "source": [
    "- Runs on CPU (not recommended here) or GPU (if available)"
   ]
  },
  {
   "cell_type": "markdown",
   "metadata": {
    "colab_type": "text",
    "id": "rH4XmErYj5wm"
   },
   "source": [
    "# VGG16 Convolutional Neural Network"
   ]
  },
  {
   "cell_type": "markdown",
   "metadata": {
    "colab_type": "text",
    "id": "MkoGLH_Tj5wn"
   },
   "source": [
    "## Imports"
   ]
  },
  {
   "cell_type": "code",
   "execution_count": 2,
   "metadata": {
    "colab": {
     "autoexec": {
      "startup": false,
      "wait_interval": 0
     }
    },
    "colab_type": "code",
    "id": "ORj09gnrj5wp"
   },
   "outputs": [],
   "source": [
    "import time\n",
    "import numpy as np\n",
    "import torch\n",
    "import torch.nn as nn\n",
    "import torch.nn.functional as F\n",
    "from torchvision import datasets\n",
    "from torchvision import transforms\n",
    "from torch.utils.data import DataLoader\n",
    "\n",
    "\n",
    "if torch.cuda.is_available():\n",
    "    torch.backends.cudnn.deterministic = True"
   ]
  },
  {
   "cell_type": "code",
   "execution_count": 3,
   "metadata": {},
   "outputs": [],
   "source": [
    "import matplotlib.pyplot as plt\n",
    "%matplotlib inline"
   ]
  },
  {
   "cell_type": "markdown",
   "metadata": {
    "colab_type": "text",
    "id": "PvgJ_0i7j5wt"
   },
   "source": [
    "## Settings and Dataset"
   ]
  },
  {
   "cell_type": "code",
   "execution_count": 4,
   "metadata": {
    "colab": {
     "autoexec": {
      "startup": false,
      "wait_interval": 0
     },
     "base_uri": "https://localhost:8080/",
     "height": 85
    },
    "colab_type": "code",
    "executionInfo": {
     "elapsed": 23936,
     "status": "ok",
     "timestamp": 1524974497505,
     "user": {
      "displayName": "Sebastian Raschka",
      "photoUrl": "//lh6.googleusercontent.com/-cxK6yOSQ6uE/AAAAAAAAAAI/AAAAAAAAIfw/P9ar_CHsKOQ/s50-c-k-no/photo.jpg",
      "userId": "118404394130788869227"
     },
     "user_tz": 240
    },
    "id": "NnT0sZIwj5wu",
    "outputId": "55aed925-d17e-4c6a-8c71-0d9b3bde5637"
   },
   "outputs": [
    {
     "name": "stdout",
     "output_type": "stream",
     "text": [
      "Device: cuda:0\n",
      "Files already downloaded and verified\n",
      "Image batch dimensions: torch.Size([256, 3, 32, 32])\n",
      "Image label dimensions: torch.Size([256])\n"
     ]
    }
   ],
   "source": [
    "##########################\n",
    "### SETTINGS\n",
    "##########################\n",
    "\n",
    "# Device\n",
    "DEVICE = torch.device(\"cuda:0\" if torch.cuda.is_available() else \"cpu\")\n",
    "print('Device:', DEVICE)\n",
    "\n",
    "# Hyperparameters\n",
    "random_seed = 1\n",
    "learning_rate = 0.001\n",
    "num_epochs = 50\n",
    "batch_size = 256\n",
    "\n",
    "# Architecture\n",
    "num_features = 784\n",
    "num_classes = 10\n",
    "\n",
    "\n",
    "##########################\n",
    "### MNIST DATASET\n",
    "##########################\n",
    "\n",
    "# Note transforms.ToTensor() scales input images\n",
    "# to 0-1 range\n",
    "train_dataset = datasets.CIFAR10(root='data', \n",
    "                                 train=True, \n",
    "                                 transform=transforms.ToTensor(),\n",
    "                                 download=True)\n",
    "\n",
    "test_dataset = datasets.CIFAR10(root='data', \n",
    "                                train=False, \n",
    "                                transform=transforms.ToTensor())\n",
    "\n",
    "\n",
    "train_loader = DataLoader(dataset=train_dataset, \n",
    "                          batch_size=batch_size, \n",
    "                          shuffle=True)\n",
    "\n",
    "test_loader = DataLoader(dataset=test_dataset, \n",
    "                         batch_size=batch_size, \n",
    "                         shuffle=False)\n",
    "\n",
    "# Checking the dataset\n",
    "for images, labels in train_loader:  \n",
    "    print('Image batch dimensions:', images.shape)\n",
    "    print('Image label dimensions:', labels.shape)\n",
    "    break"
   ]
  },
  {
   "cell_type": "markdown",
   "metadata": {
    "colab_type": "text",
    "id": "I6hghKPxj5w0"
   },
   "source": [
    "## Model"
   ]
  },
  {
   "cell_type": "code",
   "execution_count": 5,
   "metadata": {
    "colab": {
     "autoexec": {
      "startup": false,
      "wait_interval": 0
     }
    },
    "colab_type": "code",
    "id": "_lza9t_uj5w1"
   },
   "outputs": [],
   "source": [
    "##########################\n",
    "### MODEL\n",
    "##########################\n",
    "\n",
    "\n",
    "class VGG16(torch.nn.Module):\n",
    "\n",
    "    def __init__(self, num_features, num_classes):\n",
    "        super(VGG16, self).__init__()\n",
    "        \n",
    "        # calculate same padding:\n",
    "        # (w - k + 2*p)/s + 1 = o\n",
    "        # => p = (s(o-1) - w + k)/2\n",
    "        \n",
    "        self.block_1 = nn.Sequential(\n",
    "                nn.Conv2d(in_channels=3,\n",
    "                          out_channels=64,\n",
    "                          kernel_size=(3, 3),\n",
    "                          stride=(1, 1),\n",
    "                          # (1(32-1)- 32 + 3)/2 = 1\n",
    "                          padding=1), \n",
    "                nn.ReLU(),\n",
    "                nn.Conv2d(in_channels=64,\n",
    "                          out_channels=64,\n",
    "                          kernel_size=(3, 3),\n",
    "                          stride=(1, 1),\n",
    "                          padding=1),\n",
    "                nn.ReLU(),\n",
    "                nn.MaxPool2d(kernel_size=(2, 2),\n",
    "                             stride=(2, 2))\n",
    "        )\n",
    "        \n",
    "        self.block_2 = nn.Sequential(\n",
    "                nn.Conv2d(in_channels=64,\n",
    "                          out_channels=128,\n",
    "                          kernel_size=(3, 3),\n",
    "                          stride=(1, 1),\n",
    "                          padding=1),\n",
    "                nn.ReLU(),\n",
    "                nn.Conv2d(in_channels=128,\n",
    "                          out_channels=128,\n",
    "                          kernel_size=(3, 3),\n",
    "                          stride=(1, 1),\n",
    "                          padding=1),\n",
    "                nn.ReLU(),\n",
    "                nn.MaxPool2d(kernel_size=(2, 2),\n",
    "                             stride=(2, 2))\n",
    "        )\n",
    "        \n",
    "        self.block_3 = nn.Sequential(        \n",
    "                nn.Conv2d(in_channels=128,\n",
    "                          out_channels=256,\n",
    "                          kernel_size=(3, 3),\n",
    "                          stride=(1, 1),\n",
    "                          padding=1),\n",
    "                nn.ReLU(),\n",
    "                nn.Conv2d(in_channels=256,\n",
    "                          out_channels=256,\n",
    "                          kernel_size=(3, 3),\n",
    "                          stride=(1, 1),\n",
    "                          padding=1),\n",
    "                nn.ReLU(),        \n",
    "                nn.Conv2d(in_channels=256,\n",
    "                          out_channels=256,\n",
    "                          kernel_size=(3, 3),\n",
    "                          stride=(1, 1),\n",
    "                          padding=1),\n",
    "                nn.ReLU(),\n",
    "                nn.MaxPool2d(kernel_size=(2, 2),\n",
    "                             stride=(2, 2))\n",
    "        )\n",
    "        \n",
    "          \n",
    "        self.block_4 = nn.Sequential(   \n",
    "                nn.Conv2d(in_channels=256,\n",
    "                          out_channels=512,\n",
    "                          kernel_size=(3, 3),\n",
    "                          stride=(1, 1),\n",
    "                          padding=1),\n",
    "                nn.ReLU(),        \n",
    "                nn.Conv2d(in_channels=512,\n",
    "                          out_channels=512,\n",
    "                          kernel_size=(3, 3),\n",
    "                          stride=(1, 1),\n",
    "                          padding=1),\n",
    "                nn.ReLU(),        \n",
    "                nn.Conv2d(in_channels=512,\n",
    "                          out_channels=512,\n",
    "                          kernel_size=(3, 3),\n",
    "                          stride=(1, 1),\n",
    "                          padding=1),\n",
    "                nn.ReLU(),            \n",
    "                nn.MaxPool2d(kernel_size=(2, 2),\n",
    "                             stride=(2, 2))\n",
    "        )\n",
    "        \n",
    "        self.block_5 = nn.Sequential(\n",
    "                nn.Conv2d(in_channels=512,\n",
    "                          out_channels=512,\n",
    "                          kernel_size=(3, 3),\n",
    "                          stride=(1, 1),\n",
    "                          padding=1),\n",
    "                nn.ReLU(),            \n",
    "                nn.Conv2d(in_channels=512,\n",
    "                          out_channels=512,\n",
    "                          kernel_size=(3, 3),\n",
    "                          stride=(1, 1),\n",
    "                          padding=1),\n",
    "                nn.ReLU(),            \n",
    "                nn.Conv2d(in_channels=512,\n",
    "                          out_channels=512,\n",
    "                          kernel_size=(3, 3),\n",
    "                          stride=(1, 1),\n",
    "                          padding=1),\n",
    "                nn.ReLU(),    \n",
    "                nn.MaxPool2d(kernel_size=(2, 2),\n",
    "                             stride=(2, 2))             \n",
    "        )\n",
    "            \n",
    "        self.classifier = nn.Sequential(\n",
    "            nn.Linear(512, 4096),\n",
    "            nn.ReLU(True),\n",
    "            #nn.Dropout(p=0.5),\n",
    "            nn.Linear(4096, 4096),\n",
    "            nn.ReLU(True),\n",
    "            #nn.Dropout(p=0.5),\n",
    "            nn.Linear(4096, num_classes),\n",
    "        )\n",
    "            \n",
    "        for m in self.modules():\n",
    "            if isinstance(m, torch.nn.Conv2d) or isinstance(m, torch.nn.Linear):\n",
    "                nn.init.kaiming_uniform_(m.weight, mode='fan_in', nonlinearity='relu')\n",
    "                if m.bias is not None:\n",
    "                    m.bias.detach().zero_()\n",
    "                    \n",
    "        #self.avgpool = nn.AdaptiveAvgPool2d((7, 7))\n",
    "        \n",
    "        \n",
    "    def forward(self, x):\n",
    "\n",
    "        x = self.block_1(x)\n",
    "        x = self.block_2(x)\n",
    "        x = self.block_3(x)\n",
    "        x = self.block_4(x)\n",
    "        x = self.block_5(x)\n",
    "        #x = self.avgpool(x)\n",
    "        x = x.view(x.size(0), -1)\n",
    "        logits = self.classifier(x)\n",
    "        probas = F.softmax(logits, dim=1)\n",
    "\n",
    "        return logits, probas\n",
    "\n",
    "    \n",
    "torch.manual_seed(random_seed)\n",
    "model = VGG16(num_features=num_features,\n",
    "              num_classes=num_classes)\n",
    "\n",
    "model = model.to(DEVICE)\n",
    "optimizer = torch.optim.Adam(model.parameters(), lr=learning_rate)  "
   ]
  },
  {
   "cell_type": "markdown",
   "metadata": {
    "colab_type": "text",
    "id": "RAodboScj5w6"
   },
   "source": [
    "## Training"
   ]
  },
  {
   "cell_type": "code",
   "execution_count": 6,
   "metadata": {
    "colab": {
     "autoexec": {
      "startup": false,
      "wait_interval": 0
     },
     "base_uri": "https://localhost:8080/",
     "height": 1547
    },
    "colab_type": "code",
    "executionInfo": {
     "elapsed": 2384585,
     "status": "ok",
     "timestamp": 1524976888520,
     "user": {
      "displayName": "Sebastian Raschka",
      "photoUrl": "//lh6.googleusercontent.com/-cxK6yOSQ6uE/AAAAAAAAAAI/AAAAAAAAIfw/P9ar_CHsKOQ/s50-c-k-no/photo.jpg",
      "userId": "118404394130788869227"
     },
     "user_tz": 240
    },
    "id": "Dzh3ROmRj5w7",
    "outputId": "5f8fd8c9-b076-403a-b0b7-fd2d498b48d7"
   },
   "outputs": [
    {
     "name": "stdout",
     "output_type": "stream",
     "text": [
      "Epoch: 001/050 | Batch 0000/0196 | Cost: 2.4017\n",
      "Epoch: 001/050 | Batch 0050/0196 | Cost: 2.1938\n",
      "Epoch: 001/050 | Batch 0100/0196 | Cost: 2.0043\n",
      "Epoch: 001/050 | Batch 0150/0196 | Cost: 1.8046\n",
      "Epoch: 001/050 | Train: 32.078% | Test: 32.300%\n",
      "Time elapsed: 0.54 min\n",
      "Epoch: 002/050 | Batch 0000/0196 | Cost: 1.7706\n",
      "Epoch: 002/050 | Batch 0050/0196 | Cost: 1.7515\n",
      "Epoch: 002/050 | Batch 0100/0196 | Cost: 1.7405\n",
      "Epoch: 002/050 | Batch 0150/0196 | Cost: 1.4079\n",
      "Epoch: 002/050 | Train: 49.316% | Test: 48.350%\n",
      "Time elapsed: 1.07 min\n",
      "Epoch: 003/050 | Batch 0000/0196 | Cost: 1.3884\n",
      "Epoch: 003/050 | Batch 0050/0196 | Cost: 1.3722\n",
      "Epoch: 003/050 | Batch 0100/0196 | Cost: 1.2688\n",
      "Epoch: 003/050 | Batch 0150/0196 | Cost: 1.1689\n",
      "Epoch: 003/050 | Train: 60.570% | Test: 58.230%\n",
      "Time elapsed: 1.63 min\n",
      "Epoch: 004/050 | Batch 0000/0196 | Cost: 1.0885\n",
      "Epoch: 004/050 | Batch 0050/0196 | Cost: 1.0579\n",
      "Epoch: 004/050 | Batch 0100/0196 | Cost: 1.2012\n",
      "Epoch: 004/050 | Batch 0150/0196 | Cost: 0.9914\n",
      "Epoch: 004/050 | Train: 69.776% | Test: 65.540%\n",
      "Time elapsed: 2.19 min\n",
      "Epoch: 005/050 | Batch 0000/0196 | Cost: 0.8188\n",
      "Epoch: 005/050 | Batch 0050/0196 | Cost: 0.7621\n",
      "Epoch: 005/050 | Batch 0100/0196 | Cost: 0.6967\n",
      "Epoch: 005/050 | Batch 0150/0196 | Cost: 0.8348\n",
      "Epoch: 005/050 | Train: 73.424% | Test: 68.220%\n",
      "Time elapsed: 2.74 min\n",
      "Epoch: 006/050 | Batch 0000/0196 | Cost: 0.7738\n",
      "Epoch: 006/050 | Batch 0050/0196 | Cost: 0.7213\n",
      "Epoch: 006/050 | Batch 0100/0196 | Cost: 0.7080\n",
      "Epoch: 006/050 | Batch 0150/0196 | Cost: 0.7582\n",
      "Epoch: 006/050 | Train: 79.982% | Test: 72.250%\n",
      "Time elapsed: 3.29 min\n",
      "Epoch: 007/050 | Batch 0000/0196 | Cost: 0.5661\n",
      "Epoch: 007/050 | Batch 0050/0196 | Cost: 0.6219\n",
      "Epoch: 007/050 | Batch 0100/0196 | Cost: 0.6091\n",
      "Epoch: 007/050 | Batch 0150/0196 | Cost: 0.6334\n",
      "Epoch: 007/050 | Train: 81.770% | Test: 71.960%\n",
      "Time elapsed: 3.85 min\n",
      "Epoch: 008/050 | Batch 0000/0196 | Cost: 0.4836\n",
      "Epoch: 008/050 | Batch 0050/0196 | Cost: 0.5136\n",
      "Epoch: 008/050 | Batch 0100/0196 | Cost: 0.4726\n",
      "Epoch: 008/050 | Batch 0150/0196 | Cost: 0.5199\n",
      "Epoch: 008/050 | Train: 84.700% | Test: 72.990%\n",
      "Time elapsed: 4.40 min\n",
      "Epoch: 009/050 | Batch 0000/0196 | Cost: 0.5016\n",
      "Epoch: 009/050 | Batch 0050/0196 | Cost: 0.4853\n",
      "Epoch: 009/050 | Batch 0100/0196 | Cost: 0.4179\n",
      "Epoch: 009/050 | Batch 0150/0196 | Cost: 0.5756\n",
      "Epoch: 009/050 | Train: 85.666% | Test: 72.960%\n",
      "Time elapsed: 4.96 min\n",
      "Epoch: 010/050 | Batch 0000/0196 | Cost: 0.4014\n",
      "Epoch: 010/050 | Batch 0050/0196 | Cost: 0.3309\n",
      "Epoch: 010/050 | Batch 0100/0196 | Cost: 0.4548\n",
      "Epoch: 010/050 | Batch 0150/0196 | Cost: 0.3389\n",
      "Epoch: 010/050 | Train: 89.960% | Test: 74.930%\n",
      "Time elapsed: 5.51 min\n",
      "Epoch: 011/050 | Batch 0000/0196 | Cost: 0.3385\n",
      "Epoch: 011/050 | Batch 0050/0196 | Cost: 0.2824\n",
      "Epoch: 011/050 | Batch 0100/0196 | Cost: 0.2207\n",
      "Epoch: 011/050 | Batch 0150/0196 | Cost: 0.3619\n",
      "Epoch: 011/050 | Train: 90.444% | Test: 74.040%\n",
      "Time elapsed: 6.06 min\n",
      "Epoch: 012/050 | Batch 0000/0196 | Cost: 0.2413\n",
      "Epoch: 012/050 | Batch 0050/0196 | Cost: 0.2730\n",
      "Epoch: 012/050 | Batch 0100/0196 | Cost: 0.4047\n",
      "Epoch: 012/050 | Batch 0150/0196 | Cost: 0.2273\n",
      "Epoch: 012/050 | Train: 93.184% | Test: 75.060%\n",
      "Time elapsed: 6.61 min\n",
      "Epoch: 013/050 | Batch 0000/0196 | Cost: 0.2453\n",
      "Epoch: 013/050 | Batch 0050/0196 | Cost: 0.1287\n",
      "Epoch: 013/050 | Batch 0100/0196 | Cost: 0.2693\n",
      "Epoch: 013/050 | Batch 0150/0196 | Cost: 0.2673\n",
      "Epoch: 013/050 | Train: 89.958% | Test: 73.630%\n",
      "Time elapsed: 7.17 min\n",
      "Epoch: 014/050 | Batch 0000/0196 | Cost: 0.2676\n",
      "Epoch: 014/050 | Batch 0050/0196 | Cost: 0.2375\n",
      "Epoch: 014/050 | Batch 0100/0196 | Cost: 0.3274\n",
      "Epoch: 014/050 | Batch 0150/0196 | Cost: 0.2352\n",
      "Epoch: 014/050 | Train: 94.296% | Test: 75.800%\n",
      "Time elapsed: 7.73 min\n",
      "Epoch: 015/050 | Batch 0000/0196 | Cost: 0.1288\n",
      "Epoch: 015/050 | Batch 0050/0196 | Cost: 0.0846\n",
      "Epoch: 015/050 | Batch 0100/0196 | Cost: 0.2256\n",
      "Epoch: 015/050 | Batch 0150/0196 | Cost: 0.1698\n",
      "Epoch: 015/050 | Train: 95.608% | Test: 75.540%\n",
      "Time elapsed: 8.28 min\n",
      "Epoch: 016/050 | Batch 0000/0196 | Cost: 0.1201\n",
      "Epoch: 016/050 | Batch 0050/0196 | Cost: 0.1584\n",
      "Epoch: 016/050 | Batch 0100/0196 | Cost: 0.1489\n",
      "Epoch: 016/050 | Batch 0150/0196 | Cost: 0.2176\n",
      "Epoch: 016/050 | Train: 96.018% | Test: 76.130%\n",
      "Time elapsed: 8.83 min\n",
      "Epoch: 017/050 | Batch 0000/0196 | Cost: 0.1217\n",
      "Epoch: 017/050 | Batch 0050/0196 | Cost: 0.0981\n",
      "Epoch: 017/050 | Batch 0100/0196 | Cost: 0.1525\n",
      "Epoch: 017/050 | Batch 0150/0196 | Cost: 0.0883\n",
      "Epoch: 017/050 | Train: 95.816% | Test: 76.050%\n",
      "Time elapsed: 9.39 min\n",
      "Epoch: 018/050 | Batch 0000/0196 | Cost: 0.1022\n",
      "Epoch: 018/050 | Batch 0050/0196 | Cost: 0.1081\n",
      "Epoch: 018/050 | Batch 0100/0196 | Cost: 0.2058\n",
      "Epoch: 018/050 | Batch 0150/0196 | Cost: 0.1337\n",
      "Epoch: 018/050 | Train: 97.412% | Test: 76.320%\n",
      "Time elapsed: 9.93 min\n",
      "Epoch: 019/050 | Batch 0000/0196 | Cost: 0.0931\n",
      "Epoch: 019/050 | Batch 0050/0196 | Cost: 0.0778\n",
      "Epoch: 019/050 | Batch 0100/0196 | Cost: 0.1510\n",
      "Epoch: 019/050 | Batch 0150/0196 | Cost: 0.0937\n",
      "Epoch: 019/050 | Train: 95.466% | Test: 75.520%\n",
      "Time elapsed: 10.49 min\n",
      "Epoch: 020/050 | Batch 0000/0196 | Cost: 0.1195\n",
      "Epoch: 020/050 | Batch 0050/0196 | Cost: 0.0941\n",
      "Epoch: 020/050 | Batch 0100/0196 | Cost: 0.1078\n",
      "Epoch: 020/050 | Batch 0150/0196 | Cost: 0.1816\n",
      "Epoch: 020/050 | Train: 96.832% | Test: 76.250%\n",
      "Time elapsed: 11.04 min\n",
      "Epoch: 021/050 | Batch 0000/0196 | Cost: 0.0576\n",
      "Epoch: 021/050 | Batch 0050/0196 | Cost: 0.1677\n",
      "Epoch: 021/050 | Batch 0100/0196 | Cost: 0.0913\n",
      "Epoch: 021/050 | Batch 0150/0196 | Cost: 0.1549\n",
      "Epoch: 021/050 | Train: 97.518% | Test: 77.230%\n",
      "Time elapsed: 11.59 min\n",
      "Epoch: 022/050 | Batch 0000/0196 | Cost: 0.0523\n",
      "Epoch: 022/050 | Batch 0050/0196 | Cost: 0.1077\n",
      "Epoch: 022/050 | Batch 0100/0196 | Cost: 0.0552\n",
      "Epoch: 022/050 | Batch 0150/0196 | Cost: 0.1074\n",
      "Epoch: 022/050 | Train: 96.910% | Test: 75.860%\n",
      "Time elapsed: 12.14 min\n",
      "Epoch: 023/050 | Batch 0000/0196 | Cost: 0.0968\n",
      "Epoch: 023/050 | Batch 0050/0196 | Cost: 0.0656\n",
      "Epoch: 023/050 | Batch 0100/0196 | Cost: 0.1030\n",
      "Epoch: 023/050 | Batch 0150/0196 | Cost: 0.0802\n",
      "Epoch: 023/050 | Train: 96.172% | Test: 75.680%\n",
      "Time elapsed: 12.69 min\n",
      "Epoch: 024/050 | Batch 0000/0196 | Cost: 0.1043\n",
      "Epoch: 024/050 | Batch 0050/0196 | Cost: 0.0650\n",
      "Epoch: 024/050 | Batch 0100/0196 | Cost: 0.0708\n",
      "Epoch: 024/050 | Batch 0150/0196 | Cost: 0.0912\n",
      "Epoch: 024/050 | Train: 97.300% | Test: 76.520%\n",
      "Time elapsed: 13.24 min\n",
      "Epoch: 025/050 | Batch 0000/0196 | Cost: 0.0792\n",
      "Epoch: 025/050 | Batch 0050/0196 | Cost: 0.1070\n",
      "Epoch: 025/050 | Batch 0100/0196 | Cost: 0.1370\n",
      "Epoch: 025/050 | Batch 0150/0196 | Cost: 0.1034\n",
      "Epoch: 025/050 | Train: 97.822% | Test: 77.010%\n",
      "Time elapsed: 13.79 min\n",
      "Epoch: 026/050 | Batch 0000/0196 | Cost: 0.0626\n",
      "Epoch: 026/050 | Batch 0050/0196 | Cost: 0.0751\n",
      "Epoch: 026/050 | Batch 0100/0196 | Cost: 0.0740\n",
      "Epoch: 026/050 | Batch 0150/0196 | Cost: 0.1314\n",
      "Epoch: 026/050 | Train: 97.064% | Test: 75.860%\n",
      "Time elapsed: 14.35 min\n",
      "Epoch: 027/050 | Batch 0000/0196 | Cost: 0.1087\n",
      "Epoch: 027/050 | Batch 0050/0196 | Cost: 0.0434\n",
      "Epoch: 027/050 | Batch 0100/0196 | Cost: 0.0696\n",
      "Epoch: 027/050 | Batch 0150/0196 | Cost: 0.1316\n",
      "Epoch: 027/050 | Train: 97.608% | Test: 77.020%\n",
      "Time elapsed: 14.91 min\n",
      "Epoch: 028/050 | Batch 0000/0196 | Cost: 0.1109\n",
      "Epoch: 028/050 | Batch 0050/0196 | Cost: 0.0758\n",
      "Epoch: 028/050 | Batch 0100/0196 | Cost: 0.0545\n",
      "Epoch: 028/050 | Batch 0150/0196 | Cost: 0.0596\n",
      "Epoch: 028/050 | Train: 98.770% | Test: 77.580%\n",
      "Time elapsed: 15.46 min\n",
      "Epoch: 029/050 | Batch 0000/0196 | Cost: 0.0206\n",
      "Epoch: 029/050 | Batch 0050/0196 | Cost: 0.0487\n",
      "Epoch: 029/050 | Batch 0100/0196 | Cost: 0.0491\n",
      "Epoch: 029/050 | Batch 0150/0196 | Cost: 0.0931\n",
      "Epoch: 029/050 | Train: 97.942% | Test: 77.020%\n",
      "Time elapsed: 16.02 min\n",
      "Epoch: 030/050 | Batch 0000/0196 | Cost: 0.0429\n",
      "Epoch: 030/050 | Batch 0050/0196 | Cost: 0.0439\n",
      "Epoch: 030/050 | Batch 0100/0196 | Cost: 0.0659\n",
      "Epoch: 030/050 | Batch 0150/0196 | Cost: 0.1229\n",
      "Epoch: 030/050 | Train: 98.474% | Test: 76.930%\n",
      "Time elapsed: 16.57 min\n",
      "Epoch: 031/050 | Batch 0000/0196 | Cost: 0.0636\n",
      "Epoch: 031/050 | Batch 0050/0196 | Cost: 0.0507\n",
      "Epoch: 031/050 | Batch 0100/0196 | Cost: 0.0595\n",
      "Epoch: 031/050 | Batch 0150/0196 | Cost: 0.0670\n",
      "Epoch: 031/050 | Train: 97.954% | Test: 76.720%\n",
      "Time elapsed: 17.13 min\n",
      "Epoch: 032/050 | Batch 0000/0196 | Cost: 0.0730\n",
      "Epoch: 032/050 | Batch 0050/0196 | Cost: 0.0655\n",
      "Epoch: 032/050 | Batch 0100/0196 | Cost: 0.0768\n",
      "Epoch: 032/050 | Batch 0150/0196 | Cost: 0.0377\n",
      "Epoch: 032/050 | Train: 97.884% | Test: 76.300%\n",
      "Time elapsed: 17.69 min\n",
      "Epoch: 033/050 | Batch 0000/0196 | Cost: 0.1063\n",
      "Epoch: 033/050 | Batch 0050/0196 | Cost: 0.0959\n",
      "Epoch: 033/050 | Batch 0100/0196 | Cost: 0.1400\n",
      "Epoch: 033/050 | Batch 0150/0196 | Cost: 0.0739\n",
      "Epoch: 033/050 | Train: 97.298% | Test: 76.150%\n",
      "Time elapsed: 18.24 min\n",
      "Epoch: 034/050 | Batch 0000/0196 | Cost: 0.0840\n",
      "Epoch: 034/050 | Batch 0050/0196 | Cost: 0.1301\n",
      "Epoch: 034/050 | Batch 0100/0196 | Cost: 0.2172\n",
      "Epoch: 034/050 | Batch 0150/0196 | Cost: 0.0798\n",
      "Epoch: 034/050 | Train: 98.672% | Test: 76.850%\n",
      "Time elapsed: 18.79 min\n",
      "Epoch: 035/050 | Batch 0000/0196 | Cost: 0.0503\n",
      "Epoch: 035/050 | Batch 0050/0196 | Cost: 0.1261\n",
      "Epoch: 035/050 | Batch 0100/0196 | Cost: 0.0641\n",
      "Epoch: 035/050 | Batch 0150/0196 | Cost: 0.0328\n",
      "Epoch: 035/050 | Train: 98.674% | Test: 76.760%\n",
      "Time elapsed: 19.33 min\n",
      "Epoch: 036/050 | Batch 0000/0196 | Cost: 0.0455\n",
      "Epoch: 036/050 | Batch 0050/0196 | Cost: 0.0343\n",
      "Epoch: 036/050 | Batch 0100/0196 | Cost: 0.0451\n",
      "Epoch: 036/050 | Batch 0150/0196 | Cost: 0.0846\n",
      "Epoch: 036/050 | Train: 98.292% | Test: 76.900%\n",
      "Time elapsed: 19.89 min\n",
      "Epoch: 037/050 | Batch 0000/0196 | Cost: 0.0761\n",
      "Epoch: 037/050 | Batch 0050/0196 | Cost: 0.0531\n",
      "Epoch: 037/050 | Batch 0100/0196 | Cost: 0.1319\n",
      "Epoch: 037/050 | Batch 0150/0196 | Cost: 0.0629\n",
      "Epoch: 037/050 | Train: 98.022% | Test: 76.570%\n",
      "Time elapsed: 20.44 min\n",
      "Epoch: 038/050 | Batch 0000/0196 | Cost: 0.0808\n",
      "Epoch: 038/050 | Batch 0050/0196 | Cost: 0.0882\n",
      "Epoch: 038/050 | Batch 0100/0196 | Cost: 0.0711\n",
      "Epoch: 038/050 | Batch 0150/0196 | Cost: 0.0628\n",
      "Epoch: 038/050 | Train: 98.478% | Test: 77.000%\n",
      "Time elapsed: 20.99 min\n",
      "Epoch: 039/050 | Batch 0000/0196 | Cost: 0.0930\n",
      "Epoch: 039/050 | Batch 0050/0196 | Cost: 0.0303\n",
      "Epoch: 039/050 | Batch 0100/0196 | Cost: 0.0865\n",
      "Epoch: 039/050 | Batch 0150/0196 | Cost: 0.0682\n",
      "Epoch: 039/050 | Train: 97.988% | Test: 76.960%\n",
      "Time elapsed: 21.54 min\n",
      "Epoch: 040/050 | Batch 0000/0196 | Cost: 0.1116\n",
      "Epoch: 040/050 | Batch 0050/0196 | Cost: 0.0549\n",
      "Epoch: 040/050 | Batch 0100/0196 | Cost: 0.0366\n",
      "Epoch: 040/050 | Batch 0150/0196 | Cost: 0.0736\n",
      "Epoch: 040/050 | Train: 98.814% | Test: 77.770%\n",
      "Time elapsed: 22.10 min\n",
      "Epoch: 041/050 | Batch 0000/0196 | Cost: 0.0433\n",
      "Epoch: 041/050 | Batch 0050/0196 | Cost: 0.0681\n",
      "Epoch: 041/050 | Batch 0100/0196 | Cost: 0.0198\n",
      "Epoch: 041/050 | Batch 0150/0196 | Cost: 0.0648\n",
      "Epoch: 041/050 | Train: 98.522% | Test: 77.180%\n",
      "Time elapsed: 22.65 min\n",
      "Epoch: 042/050 | Batch 0000/0196 | Cost: 0.0443\n",
      "Epoch: 042/050 | Batch 0050/0196 | Cost: 0.0945\n",
      "Epoch: 042/050 | Batch 0100/0196 | Cost: 0.0581\n",
      "Epoch: 042/050 | Batch 0150/0196 | Cost: 0.0670\n",
      "Epoch: 042/050 | Train: 98.702% | Test: 77.800%\n",
      "Time elapsed: 23.21 min\n",
      "Epoch: 043/050 | Batch 0000/0196 | Cost: 0.0318\n",
      "Epoch: 043/050 | Batch 0050/0196 | Cost: 0.0379\n",
      "Epoch: 043/050 | Batch 0100/0196 | Cost: 0.0425\n",
      "Epoch: 043/050 | Batch 0150/0196 | Cost: 0.0424\n",
      "Epoch: 043/050 | Train: 98.476% | Test: 77.670%\n",
      "Time elapsed: 23.77 min\n",
      "Epoch: 044/050 | Batch 0000/0196 | Cost: 0.0701\n",
      "Epoch: 044/050 | Batch 0050/0196 | Cost: 0.0300\n",
      "Epoch: 044/050 | Batch 0100/0196 | Cost: 0.0200\n",
      "Epoch: 044/050 | Batch 0150/0196 | Cost: 0.0545\n",
      "Epoch: 044/050 | Train: 98.552% | Test: 77.180%\n",
      "Time elapsed: 24.32 min\n",
      "Epoch: 045/050 | Batch 0000/0196 | Cost: 0.0897\n",
      "Epoch: 045/050 | Batch 0050/0196 | Cost: 0.1030\n",
      "Epoch: 045/050 | Batch 0100/0196 | Cost: 0.0320\n",
      "Epoch: 045/050 | Batch 0150/0196 | Cost: 0.0755\n",
      "Epoch: 045/050 | Train: 98.614% | Test: 77.530%\n",
      "Time elapsed: 24.87 min\n",
      "Epoch: 046/050 | Batch 0000/0196 | Cost: 0.0333\n",
      "Epoch: 046/050 | Batch 0050/0196 | Cost: 0.0305\n",
      "Epoch: 046/050 | Batch 0100/0196 | Cost: 0.0566\n",
      "Epoch: 046/050 | Batch 0150/0196 | Cost: 0.0231\n",
      "Epoch: 046/050 | Train: 98.444% | Test: 77.570%\n",
      "Time elapsed: 25.42 min\n",
      "Epoch: 047/050 | Batch 0000/0196 | Cost: 0.0778\n",
      "Epoch: 047/050 | Batch 0050/0196 | Cost: 0.0681\n",
      "Epoch: 047/050 | Batch 0100/0196 | Cost: 0.0656\n",
      "Epoch: 047/050 | Batch 0150/0196 | Cost: 0.0378\n",
      "Epoch: 047/050 | Train: 98.714% | Test: 77.730%\n",
      "Time elapsed: 25.97 min\n",
      "Epoch: 048/050 | Batch 0000/0196 | Cost: 0.0095\n",
      "Epoch: 048/050 | Batch 0050/0196 | Cost: 0.0948\n",
      "Epoch: 048/050 | Batch 0100/0196 | Cost: 0.0918\n",
      "Epoch: 048/050 | Batch 0150/0196 | Cost: 0.1201\n",
      "Epoch: 048/050 | Train: 98.190% | Test: 77.800%\n",
      "Time elapsed: 26.52 min\n",
      "Epoch: 049/050 | Batch 0000/0196 | Cost: 0.0419\n",
      "Epoch: 049/050 | Batch 0050/0196 | Cost: 0.1385\n",
      "Epoch: 049/050 | Batch 0100/0196 | Cost: 0.1269\n",
      "Epoch: 049/050 | Batch 0150/0196 | Cost: 0.0340\n",
      "Epoch: 049/050 | Train: 99.078% | Test: 77.790%\n",
      "Time elapsed: 27.07 min\n",
      "Epoch: 050/050 | Batch 0000/0196 | Cost: 0.0165\n",
      "Epoch: 050/050 | Batch 0050/0196 | Cost: 0.0262\n",
      "Epoch: 050/050 | Batch 0100/0196 | Cost: 0.1230\n",
      "Epoch: 050/050 | Batch 0150/0196 | Cost: 0.1076\n",
      "Epoch: 050/050 | Train: 98.604% | Test: 77.220%\n",
      "Time elapsed: 27.62 min\n",
      "Total Training Time: 27.62 min\n"
     ]
    }
   ],
   "source": [
    "def compute_accuracy(model, data_loader):\n",
    "    model.eval()\n",
    "    correct_pred, num_examples = 0, 0\n",
    "    for i, (features, targets) in enumerate(data_loader):\n",
    "            \n",
    "        features = features.to(DEVICE)\n",
    "        targets = targets.to(DEVICE)\n",
    "\n",
    "        logits, probas = model(features)\n",
    "        _, predicted_labels = torch.max(probas, 1)\n",
    "        num_examples += targets.size(0)\n",
    "        correct_pred += (predicted_labels == targets).sum()\n",
    "    return correct_pred.float()/num_examples * 100\n",
    "\n",
    "\n",
    "def compute_epoch_loss(model, data_loader):\n",
    "    model.eval()\n",
    "    curr_loss, num_examples = 0., 0\n",
    "    with torch.no_grad():\n",
    "        for features, targets in data_loader:\n",
    "            features = features.to(DEVICE)\n",
    "            targets = targets.to(DEVICE)\n",
    "            logits, probas = model(features)\n",
    "            loss = F.cross_entropy(logits, targets, reduction='sum')\n",
    "            num_examples += targets.size(0)\n",
    "            curr_loss += loss\n",
    "\n",
    "        curr_loss = curr_loss / num_examples\n",
    "        return curr_loss\n",
    "    \n",
    "\n",
    "    \n",
    "minibatch_cost, epoch_cost = [], []\n",
    "all_train_acc, all_test_acc = [], []\n",
    "\n",
    "start_time = time.time()\n",
    "for epoch in range(num_epochs):\n",
    "    \n",
    "    model.train()\n",
    "    for batch_idx, (features, targets) in enumerate(train_loader):\n",
    "        \n",
    "        features = features.to(DEVICE)\n",
    "        targets = targets.to(DEVICE)\n",
    "            \n",
    "        ### FORWARD AND BACK PROP\n",
    "        logits, probas = model(features)\n",
    "        cost = F.cross_entropy(logits, targets)\n",
    "        optimizer.zero_grad()\n",
    "        \n",
    "        cost.backward()\n",
    "        minibatch_cost.append(cost)\n",
    "        \n",
    "        ### UPDATE MODEL PARAMETERS\n",
    "        optimizer.step()\n",
    "        \n",
    "        ### LOGGING\n",
    "        if not batch_idx % 50:\n",
    "            print ('Epoch: %03d/%03d | Batch %04d/%04d | Cost: %.4f' \n",
    "                   %(epoch+1, num_epochs, batch_idx, \n",
    "                     len(train_loader), cost))\n",
    "\n",
    "    model.eval()\n",
    "    with torch.set_grad_enabled(False): # save memory during inference\n",
    "        train_acc = compute_accuracy(model, train_loader)\n",
    "        test_acc = compute_accuracy(model, test_loader)\n",
    "        print('Epoch: %03d/%03d | Train: %.3f%% | Test: %.3f%%' % (\n",
    "              epoch+1, num_epochs, train_acc, test_acc))\n",
    "        \n",
    "        all_train_acc.append(train_acc)\n",
    "        all_test_acc.append(test_acc)\n",
    "        cost = compute_epoch_loss(model, train_loader)\n",
    "        epoch_cost.append(cost)\n",
    "\n",
    "\n",
    "    print('Time elapsed: %.2f min' % ((time.time() - start_time)/60))\n",
    "    \n",
    "print('Total Training Time: %.2f min' % ((time.time() - start_time)/60))"
   ]
  },
  {
   "cell_type": "markdown",
   "metadata": {
    "colab_type": "text",
    "id": "paaeEQHQj5xC"
   },
   "source": [
    "## Evaluation"
   ]
  },
  {
   "cell_type": "code",
   "execution_count": 7,
   "metadata": {
    "colab": {
     "autoexec": {
      "startup": false,
      "wait_interval": 0
     },
     "base_uri": "https://localhost:8080/",
     "height": 34
    },
    "colab_type": "code",
    "executionInfo": {
     "elapsed": 6514,
     "status": "ok",
     "timestamp": 1524976895054,
     "user": {
      "displayName": "Sebastian Raschka",
      "photoUrl": "//lh6.googleusercontent.com/-cxK6yOSQ6uE/AAAAAAAAAAI/AAAAAAAAIfw/P9ar_CHsKOQ/s50-c-k-no/photo.jpg",
      "userId": "118404394130788869227"
     },
     "user_tz": 240
    },
    "id": "gzQMWKq5j5xE",
    "outputId": "de7dc005-5eeb-4177-9f9f-d9b5d1358db9"
   },
   "outputs": [
    {
     "name": "stdout",
     "output_type": "stream",
     "text": [
      "Test accuracy: 77.22%\n"
     ]
    }
   ],
   "source": [
    "with torch.set_grad_enabled(False): # save memory during inference\n",
    "    print('Test accuracy: %.2f%%' % (compute_accuracy(model, test_loader)))"
   ]
  },
  {
   "cell_type": "code",
   "execution_count": 8,
   "metadata": {},
   "outputs": [
    {
     "data": {
      "image/png": "[encoded data removed]",
      "text/plain": [
       "<Figure size 432x288 with 1 Axes>"
      ]
     },
     "metadata": {
      "needs_background": "light"
     },
     "output_type": "display_data"
    },
    {
     "data": {
      "image/png": "[encoded data removed]",
      "text/plain": [
       "<Figure size 432x288 with 1 Axes>"
      ]
     },
     "metadata": {
      "needs_background": "light"
     },
     "output_type": "display_data"
    },
    {
     "data": {
      "image/png": "[encoded data removed]",
      "text/plain": [
       "<Figure size 432x288 with 1 Axes>"
      ]
     },
     "metadata": {
      "needs_background": "light"
     },
     "output_type": "display_data"
    }
   ],
   "source": [
    "plt.plot(range(len(minibatch_cost)), minibatch_cost)\n",
    "plt.ylabel('Cross Entropy')\n",
    "plt.xlabel('Minibatch')\n",
    "plt.ylim([0, 2])\n",
    "plt.show()\n",
    "\n",
    "plt.plot(range(len(epoch_cost)), epoch_cost)\n",
    "plt.ylabel('Cross Entropy')\n",
    "plt.xlabel('Epoch')\n",
    "plt.ylim([0, 2])\n",
    "plt.show()\n",
    "\n",
    "\n",
    "plt.plot(range(len(all_test_acc)), all_test_acc, label='Test (in practice, use validation set)')\n",
    "plt.plot(range(len(all_train_acc)), all_train_acc, linestyle='--', label='train')\n",
    "plt.ylabel('Accuracy')\n",
    "plt.xlabel('Epoch')\n",
    "plt.ylim([0, 100])\n",
    "plt.legend()\n",
    "plt.show()"
   ]
  },
  {
   "cell_type": "code",
   "execution_count": 9,
   "metadata": {},
   "outputs": [
    {
     "name": "stdout",
     "output_type": "stream",
     "text": [
      "numpy       1.15.4\n",
      "torch       1.0.1.post2\n",
      "\n"
     ]
    }
   ],
   "source": [
    "%watermark -iv"
   ]
  }
 ],
 "metadata": {
  "accelerator": "GPU",
  "colab": {
   "collapsed_sections": [],
   "default_view": {},
   "name": "convnet-vgg16.ipynb",
   "provenance": [],
   "version": "0.3.2",
   "views": {}
  },
  "kernelspec": {
   "display_name": "Python 3",
   "language": "python",
   "name": "python3"
  },
  "language_info": {
   "codemirror_mode": {
    "name": "ipython",
    "version": 3
   },
   "file_extension": ".py",
   "mimetype": "text/x-python",
   "name": "python",
   "nbconvert_exporter": "python",
   "pygments_lexer": "ipython3",
   "version": "3.7.1"
  },
  "toc": {
   "nav_menu": {},
   "number_sections": true,
   "sideBar": true,
   "skip_h1_title": false,
   "title_cell": "Table of Contents",
   "title_sidebar": "Contents",
   "toc_cell": true,
   "toc_position": {
    "height": "calc(100% - 180px)",
    "left": "10px",
    "top": "150px",
    "width": "371px"
   },
   "toc_section_display": true,
   "toc_window_display": true
  }
 },
 "nbformat": 4,
 "nbformat_minor": 2
}
