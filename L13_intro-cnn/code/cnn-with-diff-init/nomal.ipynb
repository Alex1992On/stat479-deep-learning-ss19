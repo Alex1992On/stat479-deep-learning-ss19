{
 "cells": [
  {
   "cell_type": "markdown",
   "metadata": {},
   "source": [
    "STAT 479: Deep Learning (Spring 2019)  \n",
    "Instructor: Sebastian Raschka (sraschka@wisc.edu)  \n",
    "Course website: http://pages.stat.wisc.edu/~sraschka/teaching/stat479-ss2019/\n",
    "GitHub repository: https://github.com/rasbt/stat479-deep-learning-ss19"
   ]
  },
  {
   "cell_type": "code",
   "execution_count": 1,
   "metadata": {},
   "outputs": [
    {
     "name": "stdout",
     "output_type": "stream",
     "text": [
      "Sebastian Raschka \n",
      "\n",
      "CPython 3.6.8\n",
      "IPython 7.2.0\n",
      "\n",
      "torch 1.0.1.post2\n"
     ]
    }
   ],
   "source": [
    "%load_ext watermark\n",
    "%watermark -a 'Sebastian Raschka' -v -p torch"
   ]
  },
  {
   "cell_type": "markdown",
   "metadata": {},
   "source": [
    "- Runs on CPU or GPU (if available)"
   ]
  },
  {
   "cell_type": "markdown",
   "metadata": {},
   "source": [
    "# ConvNet with Gaussian initialization"
   ]
  },
  {
   "cell_type": "markdown",
   "metadata": {},
   "source": [
    "## Imports"
   ]
  },
  {
   "cell_type": "code",
   "execution_count": 2,
   "metadata": {},
   "outputs": [],
   "source": [
    "import time\n",
    "import numpy as np\n",
    "import torch\n",
    "import torch.nn as nn\n",
    "import torch.nn.functional as F\n",
    "from torchvision import datasets\n",
    "from torchvision import transforms\n",
    "from torch.utils.data import DataLoader\n",
    "\n",
    "\n",
    "if torch.cuda.is_available():\n",
    "    torch.backends.cudnn.deterministic = True"
   ]
  },
  {
   "cell_type": "markdown",
   "metadata": {},
   "source": [
    "## Settings and Dataset"
   ]
  },
  {
   "cell_type": "code",
   "execution_count": 3,
   "metadata": {},
   "outputs": [
    {
     "name": "stdout",
     "output_type": "stream",
     "text": [
      "Image batch dimensions: torch.Size([128, 1, 28, 28])\n",
      "Image label dimensions: torch.Size([128])\n"
     ]
    }
   ],
   "source": [
    "##########################\n",
    "### SETTINGS\n",
    "##########################\n",
    "\n",
    "# Device\n",
    "device = torch.device(\"cuda:2\" if torch.cuda.is_available() else \"cpu\")\n",
    "\n",
    "# Hyperparameters\n",
    "random_seed = 1\n",
    "learning_rate = 0.05\n",
    "num_epochs = 10\n",
    "batch_size = 128\n",
    "\n",
    "# Architecture\n",
    "num_classes = 10\n",
    "\n",
    "\n",
    "##########################\n",
    "### MNIST DATASET\n",
    "##########################\n",
    "\n",
    "# Note transforms.ToTensor() scales input images\n",
    "# to 0-1 range\n",
    "train_dataset = datasets.MNIST(root='data', \n",
    "                               train=True, \n",
    "                               transform=transforms.ToTensor(),\n",
    "                               download=True)\n",
    "\n",
    "test_dataset = datasets.MNIST(root='data', \n",
    "                              train=False, \n",
    "                              transform=transforms.ToTensor())\n",
    "\n",
    "\n",
    "train_loader = DataLoader(dataset=train_dataset, \n",
    "                          batch_size=batch_size, \n",
    "                          shuffle=True)\n",
    "\n",
    "test_loader = DataLoader(dataset=test_dataset, \n",
    "                         batch_size=batch_size, \n",
    "                         shuffle=False)\n",
    "\n",
    "# Checking the dataset\n",
    "for images, labels in train_loader:  \n",
    "    print('Image batch dimensions:', images.shape)\n",
    "    print('Image label dimensions:', labels.shape)\n",
    "    break"
   ]
  },
  {
   "cell_type": "markdown",
   "metadata": {},
   "source": [
    "## Model"
   ]
  },
  {
   "cell_type": "code",
   "execution_count": 4,
   "metadata": {},
   "outputs": [],
   "source": [
    "##########################\n",
    "### MODEL\n",
    "##########################\n",
    "\n",
    "\n",
    "class ConvNet(torch.nn.Module):\n",
    "\n",
    "    def __init__(self, num_classes):\n",
    "        super(ConvNet, self).__init__()\n",
    "        \n",
    "        # calculate same padding:\n",
    "        # (w - k + 2*p)/s + 1 = o\n",
    "        # => p = (s(o-1) - w + k)/2\n",
    "        \n",
    "        # 28x28x1 => 28x28x4\n",
    "        self.conv_1 = torch.nn.Conv2d(in_channels=1,\n",
    "                                      out_channels=4,\n",
    "                                      kernel_size=(3, 3),\n",
    "                                      stride=(1, 1),\n",
    "                                      padding=1) # (1(28-1) - 28 + 3) / 2 = 1\n",
    "        # 28x28x4 => 14x14x4\n",
    "        self.pool_1 = torch.nn.MaxPool2d(kernel_size=(2, 2),\n",
    "                                         stride=(2, 2),\n",
    "                                         padding=0) # (2(14-1) - 28 + 2) = 0                                       \n",
    "        # 14x14x4 => 14x14x8\n",
    "        self.conv_2 = torch.nn.Conv2d(in_channels=4,\n",
    "                                      out_channels=8,\n",
    "                                      kernel_size=(3, 3),\n",
    "                                      stride=(1, 1),\n",
    "                                      padding=1) # (1(14-1) - 14 + 3) / 2 = 1                 \n",
    "        # 14x14x8 => 7x7x8                             \n",
    "        self.pool_2 = torch.nn.MaxPool2d(kernel_size=(2, 2),\n",
    "                                         stride=(2, 2),\n",
    "                                         padding=0) # (2(7-1) - 14 + 2) = 0\n",
    "        \n",
    "        self.linear_1 = torch.nn.Linear(7*7*8, num_classes)\n",
    "\n",
    "        \n",
    "    def forward(self, x):\n",
    "        out = self.conv_1(x)\n",
    "        out = F.relu(out)\n",
    "        out = self.pool_1(out)\n",
    "\n",
    "        out = self.conv_2(out)\n",
    "        out = F.relu(out)\n",
    "        out = self.pool_2(out)\n",
    "        \n",
    "        logits = self.linear_1(out.view(-1, 7*7*8))\n",
    "        probas = F.softmax(logits, dim=1)\n",
    "        return logits, probas\n",
    "\n",
    "    \n",
    "torch.manual_seed(random_seed)\n",
    "model = ConvNet(num_classes=num_classes)\n",
    "\n",
    "\n",
    "################################################\n",
    "########### REINITIALIZE WEIGHTS ###############\n",
    "def weights_init(m):\n",
    "    if isinstance(m, nn.Linear) or isinstance(m, nn.Conv2d):\n",
    "        torch.nn.init.normal_(m.weight.detach(), mean=0, std=0.1)\n",
    "        torch.zero_(m.bias.detach())\n",
    "    \n",
    "model.apply(weights_init)\n",
    "################################################\n",
    "################################################\n",
    "\n",
    "model = model.to(device)\n",
    "\n",
    "optimizer = torch.optim.SGD(model.parameters(), lr=learning_rate)  "
   ]
  },
  {
   "cell_type": "markdown",
   "metadata": {},
   "source": [
    "## Training"
   ]
  },
  {
   "cell_type": "code",
   "execution_count": 5,
   "metadata": {},
   "outputs": [
    {
     "name": "stdout",
     "output_type": "stream",
     "text": [
      "Epoch: 001/010 | Batch 000/469 | Cost: 2.3103\n",
      "Epoch: 001/010 | Batch 050/469 | Cost: 2.2963\n",
      "Epoch: 001/010 | Batch 100/469 | Cost: 2.2832\n",
      "Epoch: 001/010 | Batch 150/469 | Cost: 2.2301\n",
      "Epoch: 001/010 | Batch 200/469 | Cost: 1.8132\n",
      "Epoch: 001/010 | Batch 250/469 | Cost: 0.9415\n",
      "Epoch: 001/010 | Batch 300/469 | Cost: 0.6825\n",
      "Epoch: 001/010 | Batch 350/469 | Cost: 0.6151\n",
      "Epoch: 001/010 | Batch 400/469 | Cost: 0.2908\n",
      "Epoch: 001/010 | Batch 450/469 | Cost: 0.3216\n",
      "Epoch: 001/010 training accuracy: 86.53%\n",
      "Time elapsed: 0.22 min\n",
      "Epoch: 002/010 | Batch 000/469 | Cost: 0.4050\n",
      "Epoch: 002/010 | Batch 050/469 | Cost: 0.3191\n",
      "Epoch: 002/010 | Batch 100/469 | Cost: 0.3123\n",
      "Epoch: 002/010 | Batch 150/469 | Cost: 0.2720\n",
      "Epoch: 002/010 | Batch 200/469 | Cost: 0.2054\n",
      "Epoch: 002/010 | Batch 250/469 | Cost: 0.2061\n",
      "Epoch: 002/010 | Batch 300/469 | Cost: 0.2232\n",
      "Epoch: 002/010 | Batch 350/469 | Cost: 0.1511\n",
      "Epoch: 002/010 | Batch 400/469 | Cost: 0.2364\n",
      "Epoch: 002/010 | Batch 450/469 | Cost: 0.1523\n",
      "Epoch: 002/010 training accuracy: 92.76%\n",
      "Time elapsed: 0.44 min\n",
      "Epoch: 003/010 | Batch 000/469 | Cost: 0.2740\n",
      "Epoch: 003/010 | Batch 050/469 | Cost: 0.2879\n",
      "Epoch: 003/010 | Batch 100/469 | Cost: 0.1719\n",
      "Epoch: 003/010 | Batch 150/469 | Cost: 0.2989\n",
      "Epoch: 003/010 | Batch 200/469 | Cost: 0.1553\n",
      "Epoch: 003/010 | Batch 250/469 | Cost: 0.2151\n",
      "Epoch: 003/010 | Batch 300/469 | Cost: 0.1240\n",
      "Epoch: 003/010 | Batch 350/469 | Cost: 0.1877\n",
      "Epoch: 003/010 | Batch 400/469 | Cost: 0.1637\n",
      "Epoch: 003/010 | Batch 450/469 | Cost: 0.1664\n",
      "Epoch: 003/010 training accuracy: 95.03%\n",
      "Time elapsed: 0.65 min\n",
      "Epoch: 004/010 | Batch 000/469 | Cost: 0.2053\n",
      "Epoch: 004/010 | Batch 050/469 | Cost: 0.1070\n",
      "Epoch: 004/010 | Batch 100/469 | Cost: 0.1983\n",
      "Epoch: 004/010 | Batch 150/469 | Cost: 0.1419\n",
      "Epoch: 004/010 | Batch 200/469 | Cost: 0.1332\n",
      "Epoch: 004/010 | Batch 250/469 | Cost: 0.1351\n",
      "Epoch: 004/010 | Batch 300/469 | Cost: 0.0993\n",
      "Epoch: 004/010 | Batch 350/469 | Cost: 0.1190\n",
      "Epoch: 004/010 | Batch 400/469 | Cost: 0.1324\n",
      "Epoch: 004/010 | Batch 450/469 | Cost: 0.1432\n",
      "Epoch: 004/010 training accuracy: 95.96%\n",
      "Time elapsed: 0.87 min\n",
      "Epoch: 005/010 | Batch 000/469 | Cost: 0.0497\n",
      "Epoch: 005/010 | Batch 050/469 | Cost: 0.0739\n",
      "Epoch: 005/010 | Batch 100/469 | Cost: 0.1351\n",
      "Epoch: 005/010 | Batch 150/469 | Cost: 0.0867\n",
      "Epoch: 005/010 | Batch 200/469 | Cost: 0.1768\n",
      "Epoch: 005/010 | Batch 250/469 | Cost: 0.1344\n",
      "Epoch: 005/010 | Batch 300/469 | Cost: 0.1977\n",
      "Epoch: 005/010 | Batch 350/469 | Cost: 0.1437\n",
      "Epoch: 005/010 | Batch 400/469 | Cost: 0.1496\n",
      "Epoch: 005/010 | Batch 450/469 | Cost: 0.0837\n",
      "Epoch: 005/010 training accuracy: 96.57%\n",
      "Time elapsed: 1.09 min\n",
      "Epoch: 006/010 | Batch 000/469 | Cost: 0.1300\n",
      "Epoch: 006/010 | Batch 050/469 | Cost: 0.1460\n",
      "Epoch: 006/010 | Batch 100/469 | Cost: 0.2245\n",
      "Epoch: 006/010 | Batch 150/469 | Cost: 0.1084\n",
      "Epoch: 006/010 | Batch 200/469 | Cost: 0.0667\n",
      "Epoch: 006/010 | Batch 250/469 | Cost: 0.1781\n",
      "Epoch: 006/010 | Batch 300/469 | Cost: 0.1712\n",
      "Epoch: 006/010 | Batch 350/469 | Cost: 0.1142\n",
      "Epoch: 006/010 | Batch 400/469 | Cost: 0.0697\n",
      "Epoch: 006/010 | Batch 450/469 | Cost: 0.0830\n",
      "Epoch: 006/010 training accuracy: 96.58%\n",
      "Time elapsed: 1.30 min\n",
      "Epoch: 007/010 | Batch 000/469 | Cost: 0.1288\n",
      "Epoch: 007/010 | Batch 050/469 | Cost: 0.0940\n",
      "Epoch: 007/010 | Batch 100/469 | Cost: 0.1201\n",
      "Epoch: 007/010 | Batch 150/469 | Cost: 0.1758\n",
      "Epoch: 007/010 | Batch 200/469 | Cost: 0.1392\n",
      "Epoch: 007/010 | Batch 250/469 | Cost: 0.1011\n",
      "Epoch: 007/010 | Batch 300/469 | Cost: 0.0707\n",
      "Epoch: 007/010 | Batch 350/469 | Cost: 0.1160\n",
      "Epoch: 007/010 | Batch 400/469 | Cost: 0.0968\n",
      "Epoch: 007/010 | Batch 450/469 | Cost: 0.0962\n",
      "Epoch: 007/010 training accuracy: 96.97%\n",
      "Time elapsed: 1.52 min\n",
      "Epoch: 008/010 | Batch 000/469 | Cost: 0.0774\n",
      "Epoch: 008/010 | Batch 050/469 | Cost: 0.1012\n",
      "Epoch: 008/010 | Batch 100/469 | Cost: 0.2002\n",
      "Epoch: 008/010 | Batch 150/469 | Cost: 0.0682\n",
      "Epoch: 008/010 | Batch 200/469 | Cost: 0.0910\n",
      "Epoch: 008/010 | Batch 250/469 | Cost: 0.1327\n",
      "Epoch: 008/010 | Batch 300/469 | Cost: 0.0544\n",
      "Epoch: 008/010 | Batch 350/469 | Cost: 0.0876\n",
      "Epoch: 008/010 | Batch 400/469 | Cost: 0.1614\n",
      "Epoch: 008/010 | Batch 450/469 | Cost: 0.0847\n",
      "Epoch: 008/010 training accuracy: 97.36%\n",
      "Time elapsed: 1.74 min\n",
      "Epoch: 009/010 | Batch 000/469 | Cost: 0.0647\n",
      "Epoch: 009/010 | Batch 050/469 | Cost: 0.2315\n",
      "Epoch: 009/010 | Batch 100/469 | Cost: 0.1046\n",
      "Epoch: 009/010 | Batch 150/469 | Cost: 0.0592\n",
      "Epoch: 009/010 | Batch 200/469 | Cost: 0.0823\n",
      "Epoch: 009/010 | Batch 250/469 | Cost: 0.0592\n",
      "Epoch: 009/010 | Batch 300/469 | Cost: 0.1745\n",
      "Epoch: 009/010 | Batch 350/469 | Cost: 0.0848\n",
      "Epoch: 009/010 | Batch 400/469 | Cost: 0.0902\n",
      "Epoch: 009/010 | Batch 450/469 | Cost: 0.0548\n",
      "Epoch: 009/010 training accuracy: 97.60%\n",
      "Time elapsed: 1.95 min\n",
      "Epoch: 010/010 | Batch 000/469 | Cost: 0.1258\n",
      "Epoch: 010/010 | Batch 050/469 | Cost: 0.1195\n",
      "Epoch: 010/010 | Batch 100/469 | Cost: 0.2278\n",
      "Epoch: 010/010 | Batch 150/469 | Cost: 0.0441\n",
      "Epoch: 010/010 | Batch 200/469 | Cost: 0.0884\n",
      "Epoch: 010/010 | Batch 250/469 | Cost: 0.1109\n",
      "Epoch: 010/010 | Batch 300/469 | Cost: 0.0773\n",
      "Epoch: 010/010 | Batch 350/469 | Cost: 0.1438\n",
      "Epoch: 010/010 | Batch 400/469 | Cost: 0.1496\n",
      "Epoch: 010/010 | Batch 450/469 | Cost: 0.1280\n",
      "Epoch: 010/010 training accuracy: 97.51%\n",
      "Time elapsed: 2.17 min\n",
      "Total Training Time: 2.17 min\n"
     ]
    }
   ],
   "source": [
    "def compute_accuracy(model, data_loader):\n",
    "    correct_pred, num_examples = 0, 0\n",
    "    for features, targets in data_loader:\n",
    "        features = features.to(device)\n",
    "        targets = targets.to(device)\n",
    "        logits, probas = model(features)\n",
    "        _, predicted_labels = torch.max(probas, 1)\n",
    "        num_examples += targets.size(0)\n",
    "        correct_pred += (predicted_labels == targets).sum()\n",
    "    return correct_pred.float()/num_examples * 100\n",
    "    \n",
    "\n",
    "start_time = time.time()\n",
    "for epoch in range(num_epochs):\n",
    "    model = model.train()\n",
    "    for batch_idx, (features, targets) in enumerate(train_loader):\n",
    "        \n",
    "        features = features.to(device)\n",
    "        targets = targets.to(device)\n",
    "\n",
    "        ### FORWARD AND BACK PROP\n",
    "        logits, probas = model(features)\n",
    "        cost = F.cross_entropy(logits, targets)\n",
    "        optimizer.zero_grad()\n",
    "        \n",
    "        cost.backward()\n",
    "        \n",
    "        ### UPDATE MODEL PARAMETERS\n",
    "        optimizer.step()\n",
    "        \n",
    "        ### LOGGING\n",
    "        if not batch_idx % 50:\n",
    "            print ('Epoch: %03d/%03d | Batch %03d/%03d | Cost: %.4f' \n",
    "                   %(epoch+1, num_epochs, batch_idx, \n",
    "                     len(train_loader), cost))\n",
    "    \n",
    "    model = model.eval()\n",
    "    print('Epoch: %03d/%03d training accuracy: %.2f%%' % (\n",
    "          epoch+1, num_epochs, \n",
    "          compute_accuracy(model, train_loader)))\n",
    "    \n",
    "    print('Time elapsed: %.2f min' % ((time.time() - start_time)/60))\n",
    "    \n",
    "print('Total Training Time: %.2f min' % ((time.time() - start_time)/60))"
   ]
  },
  {
   "cell_type": "markdown",
   "metadata": {},
   "source": [
    "## Evaluation"
   ]
  },
  {
   "cell_type": "code",
   "execution_count": 6,
   "metadata": {},
   "outputs": [
    {
     "name": "stdout",
     "output_type": "stream",
     "text": [
      "Test accuracy: 97.76%\n"
     ]
    }
   ],
   "source": [
    "print('Test accuracy: %.2f%%' % (compute_accuracy(model, test_loader)))"
   ]
  },
  {
   "cell_type": "code",
   "execution_count": 7,
   "metadata": {},
   "outputs": [
    {
     "name": "stdout",
     "output_type": "stream",
     "text": [
      "numpy       1.15.4\n",
      "torch       1.0.1.post2\n",
      "\n"
     ]
    }
   ],
   "source": [
    "%watermark -iv"
   ]
  }
 ],
 "metadata": {
  "kernelspec": {
   "display_name": "Python 3",
   "language": "python",
   "name": "python3"
  },
  "language_info": {
   "codemirror_mode": {
    "name": "ipython",
    "version": 3
   },
   "file_extension": ".py",
   "mimetype": "text/x-python",
   "name": "python",
   "nbconvert_exporter": "python",
   "pygments_lexer": "ipython3",
   "version": "3.6.8"
  },
  "toc": {
   "nav_menu": {},
   "number_sections": true,
   "sideBar": true,
   "skip_h1_title": false,
   "title_cell": "Table of Contents",
   "title_sidebar": "Contents",
   "toc_cell": false,
   "toc_position": {},
   "toc_section_display": true,
   "toc_window_display": false
  }
 },
 "nbformat": 4,
 "nbformat_minor": 2
}
