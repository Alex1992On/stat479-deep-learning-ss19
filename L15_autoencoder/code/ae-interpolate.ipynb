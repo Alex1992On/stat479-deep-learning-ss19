{
 "cells": [
  {
   "cell_type": "markdown",
   "metadata": {},
   "source": [
    "STAT 479: Deep Learning (Spring 2019)\n",
    "Instructor: Sebastian Raschka (sraschka@wisc.edu)\n",
    "- Course website: http://pages.stat.wisc.edu/~sraschka/teaching/stat479-ss2019/ \n",
    "- GitHub repository: https://github.com/rasbt/stat479-deep-learning-ss19"
   ]
  },
  {
   "cell_type": "code",
   "execution_count": 1,
   "metadata": {},
   "outputs": [
    {
     "name": "stdout",
     "output_type": "stream",
     "text": [
      "Sebastian Raschka \n",
      "\n",
      "CPython 3.6.8\n",
      "IPython 7.2.0\n",
      "\n",
      "torch 1.0.1.post2\n"
     ]
    }
   ],
   "source": [
    "%load_ext watermark\n",
    "%watermark -a 'Sebastian Raschka' -v -p torch"
   ]
  },
  {
   "cell_type": "markdown",
   "metadata": {},
   "source": [
    "- Runs on CPU or GPU (if available)"
   ]
  },
  {
   "cell_type": "markdown",
   "metadata": {},
   "source": [
    "# Convolutional Autoencoder with Nearest-neighbor Interpolation"
   ]
  },
  {
   "cell_type": "markdown",
   "metadata": {},
   "source": [
    "A convolutional autoencoder using nearest neighbor upscaling layers that compresses 768-pixel MNIST images down to a 7x7x8 (392 pixel) representation."
   ]
  },
  {
   "cell_type": "markdown",
   "metadata": {},
   "source": [
    "## Imports"
   ]
  },
  {
   "cell_type": "code",
   "execution_count": 2,
   "metadata": {},
   "outputs": [],
   "source": [
    "import time\n",
    "import numpy as np\n",
    "import torch\n",
    "import torch.nn.functional as F\n",
    "from torch.utils.data import DataLoader\n",
    "from torchvision import datasets\n",
    "from torchvision import transforms\n",
    "\n",
    "\n",
    "if torch.cuda.is_available():\n",
    "    torch.backends.cudnn.deterministic = True"
   ]
  },
  {
   "cell_type": "code",
   "execution_count": 3,
   "metadata": {},
   "outputs": [
    {
     "name": "stdout",
     "output_type": "stream",
     "text": [
      "Device: cuda:0\n",
      "Image batch dimensions: torch.Size([128, 1, 28, 28])\n",
      "Image label dimensions: torch.Size([128])\n"
     ]
    }
   ],
   "source": [
    "##########################\n",
    "### SETTINGS\n",
    "##########################\n",
    "\n",
    "# Device\n",
    "device = torch.device(\"cuda:0\" if torch.cuda.is_available() else \"cpu\")\n",
    "print('Device:', device)\n",
    "\n",
    "# Hyperparameters\n",
    "random_seed = 123\n",
    "learning_rate = 0.001\n",
    "num_epochs = 10\n",
    "batch_size = 128\n",
    "\n",
    "\n",
    "##########################\n",
    "### MNIST DATASET\n",
    "##########################\n",
    "\n",
    "# Note transforms.ToTensor() scales input images\n",
    "# to 0-1 range\n",
    "train_dataset = datasets.MNIST(root='data', \n",
    "                               train=True, \n",
    "                               transform=transforms.ToTensor(),\n",
    "                               download=True)\n",
    "\n",
    "test_dataset = datasets.MNIST(root='data', \n",
    "                              train=False, \n",
    "                              transform=transforms.ToTensor())\n",
    "\n",
    "\n",
    "train_loader = DataLoader(dataset=train_dataset, \n",
    "                          batch_size=batch_size, \n",
    "                          shuffle=True)\n",
    "\n",
    "test_loader = DataLoader(dataset=test_dataset, \n",
    "                         batch_size=batch_size, \n",
    "                         shuffle=False)\n",
    "\n",
    "# Checking the dataset\n",
    "for images, labels in train_loader:  \n",
    "    print('Image batch dimensions:', images.shape)\n",
    "    print('Image label dimensions:', labels.shape)\n",
    "    break"
   ]
  },
  {
   "cell_type": "markdown",
   "metadata": {},
   "source": [
    "## Model"
   ]
  },
  {
   "cell_type": "code",
   "execution_count": 4,
   "metadata": {},
   "outputs": [],
   "source": [
    "##########################\n",
    "### MODEL\n",
    "##########################\n",
    "\n",
    "\n",
    "class ConvolutionalAutoencoder(torch.nn.Module):\n",
    "\n",
    "    def __init__(self):\n",
    "        super(ConvolutionalAutoencoder, self).__init__()\n",
    "        \n",
    "        # calculate same padding:\n",
    "        # (w - k + 2*p)/s + 1 = o\n",
    "        # => p = (s(o-1) - w + k)/2\n",
    "        \n",
    "        ### ENCODER\n",
    "        \n",
    "        # 28x28x1 => 28x28x4\n",
    "        self.conv_1 = torch.nn.Conv2d(in_channels=1,\n",
    "                                      out_channels=4,\n",
    "                                      kernel_size=(3, 3),\n",
    "                                      stride=(1, 1),\n",
    "                                      # (1(28-1) - 28 + 3) / 2 = 1\n",
    "                                      padding=1)\n",
    "        # 28x28x4 => 14x14x4\n",
    "        self.pool_1 = torch.nn.MaxPool2d(kernel_size=(2, 2),\n",
    "                                         stride=(2, 2),\n",
    "                                         # (2(14-1) - 28 + 2) / 2 = 0\n",
    "                                         padding=0)                                       \n",
    "        # 14x14x4 => 14x14x8\n",
    "        self.conv_2 = torch.nn.Conv2d(in_channels=4,\n",
    "                                      out_channels=8,\n",
    "                                      kernel_size=(3, 3),\n",
    "                                      stride=(1, 1),\n",
    "                                      # (1(14-1) - 14 + 3) / 2 = 1\n",
    "                                      padding=1)                 \n",
    "        # 14x14x8 => 7x7x8                             \n",
    "        self.pool_2 = torch.nn.MaxPool2d(kernel_size=(2, 2),\n",
    "                                         stride=(2, 2),\n",
    "                                         # (2(7-1) - 14 + 2) / 2 = 0\n",
    "                                         padding=0)\n",
    "        \n",
    "        ### DECODER\n",
    "                                         \n",
    "        # 7x7x8 => 14x14x8               \n",
    "        # Unpool\n",
    "\n",
    "        # 14x14x8 => 14x14x8\n",
    "        self.conv_3 = torch.nn.Conv2d(in_channels=8,\n",
    "                                      out_channels=4,\n",
    "                                      kernel_size=(3, 3),\n",
    "                                      stride=(1, 1),\n",
    "                                      # (1(14-1) - 14 + 3) / 2 = 1\n",
    "                                      padding=1)\n",
    "        # 14x14x4 => 28x28x4                            \n",
    "        # Unpool\n",
    "        \n",
    "        # 28x28x4 => 28x28x1\n",
    "        self.conv_4 = torch.nn.Conv2d(in_channels=4,\n",
    "                                      out_channels=1,\n",
    "                                      kernel_size=(3, 3),\n",
    "                                      stride=(1, 1),\n",
    "                                      # (1(28-1) - 28 + 3) / 2 = 1\n",
    "                                      padding=1)\n",
    "        \n",
    "    def forward(self, x):\n",
    "        \n",
    "        ### ENCODER\n",
    "        x = self.conv_1(x)\n",
    "        x = F.leaky_relu(x)\n",
    "        x = self.pool_1(x)\n",
    "        x = self.conv_2(x)\n",
    "        x = F.leaky_relu(x)\n",
    "        x = self.pool_2(x)\n",
    "        \n",
    "        ### DECODER\n",
    "        x = F.interpolate(x, scale_factor=2, mode='nearest')\n",
    "        x = self.conv_3(x)\n",
    "        x = F.leaky_relu(x)\n",
    "        x = F.interpolate(x, scale_factor=2, mode='nearest')\n",
    "        x = self.conv_4(x)\n",
    "        #logits = F.leaky_relu(x)\n",
    "        probas = torch.sigmoid(x)\n",
    "        return probas\n",
    "\n",
    "    \n",
    "torch.manual_seed(random_seed)\n",
    "model = ConvolutionalAutoencoder()\n",
    "model = model.to(device)\n",
    "\n",
    "optimizer = torch.optim.Adam(model.parameters(), lr=learning_rate)  "
   ]
  },
  {
   "cell_type": "markdown",
   "metadata": {},
   "source": [
    "## Training"
   ]
  },
  {
   "cell_type": "code",
   "execution_count": 5,
   "metadata": {},
   "outputs": [
    {
     "name": "stdout",
     "output_type": "stream",
     "text": [
      "Epoch: 001/010 | Batch 000/469 | Cost: 0.2352\n",
      "Epoch: 001/010 | Batch 050/469 | Cost: 0.1653\n",
      "Epoch: 001/010 | Batch 100/469 | Cost: 0.0429\n",
      "Epoch: 001/010 | Batch 150/469 | Cost: 0.0299\n",
      "Epoch: 001/010 | Batch 200/469 | Cost: 0.0244\n",
      "Epoch: 001/010 | Batch 250/469 | Cost: 0.0207\n",
      "Epoch: 001/010 | Batch 300/469 | Cost: 0.0171\n",
      "Epoch: 001/010 | Batch 350/469 | Cost: 0.0166\n",
      "Epoch: 001/010 | Batch 400/469 | Cost: 0.0164\n",
      "Epoch: 001/010 | Batch 450/469 | Cost: 0.0141\n",
      "Time elapsed: 0.13 min\n",
      "Epoch: 002/010 | Batch 000/469 | Cost: 0.0146\n",
      "Epoch: 002/010 | Batch 050/469 | Cost: 0.0139\n",
      "Epoch: 002/010 | Batch 100/469 | Cost: 0.0133\n",
      "Epoch: 002/010 | Batch 150/469 | Cost: 0.0122\n",
      "Epoch: 002/010 | Batch 200/469 | Cost: 0.0114\n",
      "Epoch: 002/010 | Batch 250/469 | Cost: 0.0114\n",
      "Epoch: 002/010 | Batch 300/469 | Cost: 0.0115\n",
      "Epoch: 002/010 | Batch 350/469 | Cost: 0.0111\n",
      "Epoch: 002/010 | Batch 400/469 | Cost: 0.0101\n",
      "Epoch: 002/010 | Batch 450/469 | Cost: 0.0096\n",
      "Time elapsed: 0.25 min\n",
      "Epoch: 003/010 | Batch 000/469 | Cost: 0.0097\n",
      "Epoch: 003/010 | Batch 050/469 | Cost: 0.0101\n",
      "Epoch: 003/010 | Batch 100/469 | Cost: 0.0101\n",
      "Epoch: 003/010 | Batch 150/469 | Cost: 0.0098\n",
      "Epoch: 003/010 | Batch 200/469 | Cost: 0.0099\n",
      "Epoch: 003/010 | Batch 250/469 | Cost: 0.0092\n",
      "Epoch: 003/010 | Batch 300/469 | Cost: 0.0094\n",
      "Epoch: 003/010 | Batch 350/469 | Cost: 0.0095\n",
      "Epoch: 003/010 | Batch 400/469 | Cost: 0.0090\n",
      "Epoch: 003/010 | Batch 450/469 | Cost: 0.0087\n",
      "Time elapsed: 0.37 min\n",
      "Epoch: 004/010 | Batch 000/469 | Cost: 0.0086\n",
      "Epoch: 004/010 | Batch 050/469 | Cost: 0.0082\n",
      "Epoch: 004/010 | Batch 100/469 | Cost: 0.0078\n",
      "Epoch: 004/010 | Batch 150/469 | Cost: 0.0079\n",
      "Epoch: 004/010 | Batch 200/469 | Cost: 0.0089\n",
      "Epoch: 004/010 | Batch 250/469 | Cost: 0.0082\n",
      "Epoch: 004/010 | Batch 300/469 | Cost: 0.0079\n",
      "Epoch: 004/010 | Batch 350/469 | Cost: 0.0080\n",
      "Epoch: 004/010 | Batch 400/469 | Cost: 0.0076\n",
      "Epoch: 004/010 | Batch 450/469 | Cost: 0.0076\n",
      "Time elapsed: 0.49 min\n",
      "Epoch: 005/010 | Batch 000/469 | Cost: 0.0079\n",
      "Epoch: 005/010 | Batch 050/469 | Cost: 0.0084\n",
      "Epoch: 005/010 | Batch 100/469 | Cost: 0.0081\n",
      "Epoch: 005/010 | Batch 150/469 | Cost: 0.0082\n",
      "Epoch: 005/010 | Batch 200/469 | Cost: 0.0080\n",
      "Epoch: 005/010 | Batch 250/469 | Cost: 0.0075\n",
      "Epoch: 005/010 | Batch 300/469 | Cost: 0.0072\n",
      "Epoch: 005/010 | Batch 350/469 | Cost: 0.0071\n",
      "Epoch: 005/010 | Batch 400/469 | Cost: 0.0076\n",
      "Epoch: 005/010 | Batch 450/469 | Cost: 0.0077\n",
      "Time elapsed: 0.61 min\n",
      "Epoch: 006/010 | Batch 000/469 | Cost: 0.0071\n",
      "Epoch: 006/010 | Batch 050/469 | Cost: 0.0071\n",
      "Epoch: 006/010 | Batch 100/469 | Cost: 0.0069\n",
      "Epoch: 006/010 | Batch 150/469 | Cost: 0.0071\n",
      "Epoch: 006/010 | Batch 200/469 | Cost: 0.0072\n",
      "Epoch: 006/010 | Batch 250/469 | Cost: 0.0067\n",
      "Epoch: 006/010 | Batch 300/469 | Cost: 0.0070\n",
      "Epoch: 006/010 | Batch 350/469 | Cost: 0.0074\n",
      "Epoch: 006/010 | Batch 400/469 | Cost: 0.0065\n",
      "Epoch: 006/010 | Batch 450/469 | Cost: 0.0066\n",
      "Time elapsed: 0.73 min\n",
      "Epoch: 007/010 | Batch 000/469 | Cost: 0.0071\n",
      "Epoch: 007/010 | Batch 050/469 | Cost: 0.0065\n",
      "Epoch: 007/010 | Batch 100/469 | Cost: 0.0070\n",
      "Epoch: 007/010 | Batch 150/469 | Cost: 0.0069\n",
      "Epoch: 007/010 | Batch 200/469 | Cost: 0.0069\n",
      "Epoch: 007/010 | Batch 250/469 | Cost: 0.0067\n",
      "Epoch: 007/010 | Batch 300/469 | Cost: 0.0066\n",
      "Epoch: 007/010 | Batch 350/469 | Cost: 0.0065\n",
      "Epoch: 007/010 | Batch 400/469 | Cost: 0.0069\n",
      "Epoch: 007/010 | Batch 450/469 | Cost: 0.0065\n",
      "Time elapsed: 0.86 min\n",
      "Epoch: 008/010 | Batch 000/469 | Cost: 0.0062\n",
      "Epoch: 008/010 | Batch 050/469 | Cost: 0.0069\n",
      "Epoch: 008/010 | Batch 100/469 | Cost: 0.0067\n",
      "Epoch: 008/010 | Batch 150/469 | Cost: 0.0067\n",
      "Epoch: 008/010 | Batch 200/469 | Cost: 0.0062\n",
      "Epoch: 008/010 | Batch 250/469 | Cost: 0.0069\n",
      "Epoch: 008/010 | Batch 300/469 | Cost: 0.0067\n",
      "Epoch: 008/010 | Batch 350/469 | Cost: 0.0067\n",
      "Epoch: 008/010 | Batch 400/469 | Cost: 0.0069\n",
      "Epoch: 008/010 | Batch 450/469 | Cost: 0.0070\n",
      "Time elapsed: 0.98 min\n",
      "Epoch: 009/010 | Batch 000/469 | Cost: 0.0071\n",
      "Epoch: 009/010 | Batch 050/469 | Cost: 0.0062\n",
      "Epoch: 009/010 | Batch 100/469 | Cost: 0.0066\n",
      "Epoch: 009/010 | Batch 150/469 | Cost: 0.0063\n",
      "Epoch: 009/010 | Batch 200/469 | Cost: 0.0063\n",
      "Epoch: 009/010 | Batch 250/469 | Cost: 0.0059\n",
      "Epoch: 009/010 | Batch 300/469 | Cost: 0.0066\n",
      "Epoch: 009/010 | Batch 350/469 | Cost: 0.0064\n",
      "Epoch: 009/010 | Batch 400/469 | Cost: 0.0064\n",
      "Epoch: 009/010 | Batch 450/469 | Cost: 0.0072\n",
      "Time elapsed: 1.10 min\n",
      "Epoch: 010/010 | Batch 000/469 | Cost: 0.0061\n",
      "Epoch: 010/010 | Batch 050/469 | Cost: 0.0059\n",
      "Epoch: 010/010 | Batch 100/469 | Cost: 0.0063\n",
      "Epoch: 010/010 | Batch 150/469 | Cost: 0.0063\n",
      "Epoch: 010/010 | Batch 200/469 | Cost: 0.0064\n",
      "Epoch: 010/010 | Batch 250/469 | Cost: 0.0063\n",
      "Epoch: 010/010 | Batch 300/469 | Cost: 0.0065\n",
      "Epoch: 010/010 | Batch 350/469 | Cost: 0.0066\n",
      "Epoch: 010/010 | Batch 400/469 | Cost: 0.0063\n",
      "Epoch: 010/010 | Batch 450/469 | Cost: 0.0062\n",
      "Time elapsed: 1.22 min\n",
      "Total Training Time: 1.22 min\n"
     ]
    }
   ],
   "source": [
    "start_time = time.time()\n",
    "for epoch in range(num_epochs):\n",
    "    for batch_idx, (features, targets) in enumerate(train_loader):\n",
    "        \n",
    "        # don't need labels, only the images (features)\n",
    "        features = features.to(device)\n",
    "\n",
    "        ### FORWARD AND BACK PROP\n",
    "        decoded = model(features)\n",
    "        cost = F.mse_loss(decoded, features)\n",
    "        optimizer.zero_grad()\n",
    "        \n",
    "        cost.backward()\n",
    "        \n",
    "        ### UPDATE MODEL PARAMETERS\n",
    "        optimizer.step()\n",
    "        \n",
    "        ### LOGGING\n",
    "        if not batch_idx % 50:\n",
    "            print ('Epoch: %03d/%03d | Batch %03d/%03d | Cost: %.4f' \n",
    "                   %(epoch+1, num_epochs, batch_idx, \n",
    "                     len(train_loader), cost))\n",
    "            \n",
    "    print('Time elapsed: %.2f min' % ((time.time() - start_time)/60))\n",
    "    \n",
    "print('Total Training Time: %.2f min' % ((time.time() - start_time)/60))"
   ]
  },
  {
   "cell_type": "markdown",
   "metadata": {},
   "source": [
    "## Evaluation"
   ]
  },
  {
   "cell_type": "code",
   "execution_count": 6,
   "metadata": {},
   "outputs": [
    {
     "data": {
      "image/png": "[encoded data removed]",
      "text/plain": [
       "<Figure size 1440x180 with 30 Axes>"
      ]
     },
     "metadata": {
      "needs_background": "light"
     },
     "output_type": "display_data"
    }
   ],
   "source": [
    "%matplotlib inline\n",
    "import matplotlib.pyplot as plt\n",
    "\n",
    "##########################\n",
    "### VISUALIZATION\n",
    "##########################\n",
    "\n",
    "n_images = 15\n",
    "image_width = 28\n",
    "\n",
    "fig, axes = plt.subplots(nrows=2, ncols=n_images, \n",
    "                         sharex=True, sharey=True, figsize=(20, 2.5))\n",
    "orig_images = features[:n_images]\n",
    "decoded_images = decoded[:n_images]\n",
    "\n",
    "for i in range(n_images):\n",
    "    for ax, img in zip(axes, [orig_images, decoded_images]):\n",
    "        curr_img = img[i].detach().to(torch.device('cpu'))\n",
    "        ax[i].imshow(curr_img.view((image_width, image_width)), cmap='binary')"
   ]
  },
  {
   "cell_type": "code",
   "execution_count": 7,
   "metadata": {},
   "outputs": [
    {
     "name": "stdout",
     "output_type": "stream",
     "text": [
      "numpy       1.15.4\n",
      "torch       1.0.1.post2\n",
      "\n"
     ]
    }
   ],
   "source": [
    "%watermark -iv"
   ]
  }
 ],
 "metadata": {
  "kernelspec": {
   "display_name": "Python 3",
   "language": "python",
   "name": "python3"
  },
  "language_info": {
   "codemirror_mode": {
    "name": "ipython",
    "version": 3
   },
   "file_extension": ".py",
   "mimetype": "text/x-python",
   "name": "python",
   "nbconvert_exporter": "python",
   "pygments_lexer": "ipython3",
   "version": "3.6.8"
  },
  "toc": {
   "nav_menu": {},
   "number_sections": true,
   "sideBar": true,
   "skip_h1_title": false,
   "title_cell": "Table of Contents",
   "title_sidebar": "Contents",
   "toc_cell": false,
   "toc_position": {},
   "toc_section_display": true,
   "toc_window_display": false
  }
 },
 "nbformat": 4,
 "nbformat_minor": 2
}
