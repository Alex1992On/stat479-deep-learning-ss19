{
 "cells": [
  {
   "cell_type": "markdown",
   "metadata": {},
   "source": [
    "STAT 479: Deep Learning (Spring 2019)\n",
    "Instructor: Sebastian Raschka (sraschka@wisc.edu)\n",
    "- Course website: http://pages.stat.wisc.edu/~sraschka/teaching/stat479-ss2019/ \n",
    "- GitHub repository: https://github.com/rasbt/stat479-deep-learning-ss19"
   ]
  },
  {
   "cell_type": "code",
   "execution_count": 1,
   "metadata": {},
   "outputs": [
    {
     "name": "stdout",
     "output_type": "stream",
     "text": [
      "Sebastian Raschka \n",
      "\n",
      "CPython 3.6.8\n",
      "IPython 7.2.0\n",
      "\n",
      "torch 1.0.1.post2\n"
     ]
    }
   ],
   "source": [
    "%load_ext watermark\n",
    "%watermark -a 'Sebastian Raschka' -v -p torch"
   ]
  },
  {
   "cell_type": "markdown",
   "metadata": {},
   "source": [
    "- Runs on CPU or GPU (if available)"
   ]
  },
  {
   "cell_type": "markdown",
   "metadata": {},
   "source": [
    "# Convolutional Autoencoder"
   ]
  },
  {
   "cell_type": "markdown",
   "metadata": {},
   "source": [
    "A convolutional autoencoder using deconvolutional layers that compresses 768-pixel MNIST images down to a 2x2x16 (64 pixel) representation without using pooling operations but increasing the stride in convolutional layers."
   ]
  },
  {
   "cell_type": "markdown",
   "metadata": {},
   "source": [
    "## Imports"
   ]
  },
  {
   "cell_type": "code",
   "execution_count": 2,
   "metadata": {},
   "outputs": [],
   "source": [
    "import time\n",
    "import numpy as np\n",
    "import torch\n",
    "import torch.nn.functional as F\n",
    "from torch.utils.data import DataLoader\n",
    "from torchvision import datasets\n",
    "from torchvision import transforms\n",
    "\n",
    "\n",
    "if torch.cuda.is_available():\n",
    "    torch.backends.cudnn.deterministic = True"
   ]
  },
  {
   "cell_type": "code",
   "execution_count": 3,
   "metadata": {},
   "outputs": [
    {
     "name": "stdout",
     "output_type": "stream",
     "text": [
      "Device: cuda:0\n",
      "Image batch dimensions: torch.Size([128, 1, 28, 28])\n",
      "Image label dimensions: torch.Size([128])\n"
     ]
    }
   ],
   "source": [
    "##########################\n",
    "### SETTINGS\n",
    "##########################\n",
    "\n",
    "# Device\n",
    "device = torch.device(\"cuda:0\" if torch.cuda.is_available() else \"cpu\")\n",
    "print('Device:', device)\n",
    "\n",
    "# Hyperparameters\n",
    "random_seed = 456\n",
    "learning_rate = 0.005\n",
    "num_epochs = 10\n",
    "batch_size = 128\n",
    "\n",
    "##########################\n",
    "### MNIST DATASET\n",
    "##########################\n",
    "\n",
    "# Note transforms.ToTensor() scales input images\n",
    "# to 0-1 range\n",
    "train_dataset = datasets.MNIST(root='data', \n",
    "                               train=True, \n",
    "                               transform=transforms.ToTensor(),\n",
    "                               download=True)\n",
    "\n",
    "test_dataset = datasets.MNIST(root='data', \n",
    "                              train=False, \n",
    "                              transform=transforms.ToTensor())\n",
    "\n",
    "\n",
    "train_loader = DataLoader(dataset=train_dataset, \n",
    "                          batch_size=batch_size, \n",
    "                          shuffle=True)\n",
    "\n",
    "test_loader = DataLoader(dataset=test_dataset, \n",
    "                         batch_size=batch_size, \n",
    "                         shuffle=False)\n",
    "\n",
    "# Checking the dataset\n",
    "for images, labels in train_loader:  \n",
    "    print('Image batch dimensions:', images.shape)\n",
    "    print('Image label dimensions:', labels.shape)\n",
    "    break"
   ]
  },
  {
   "cell_type": "markdown",
   "metadata": {},
   "source": [
    "## Model"
   ]
  },
  {
   "cell_type": "code",
   "execution_count": 4,
   "metadata": {},
   "outputs": [],
   "source": [
    "##########################\n",
    "### MODEL\n",
    "##########################\n",
    "\n",
    "\n",
    "class ConvolutionalAutoencoder(torch.nn.Module):\n",
    "\n",
    "    def __init__(self):\n",
    "        super(ConvolutionalAutoencoder, self).__init__()\n",
    "        \n",
    "        # calculate same padding:\n",
    "        # (w - k + 2*p)/s + 1 = o\n",
    "        # => p = (s(o-1) - w + k)/2\n",
    "        \n",
    "        ### ENCODER\n",
    "        \n",
    "        # 28x28x1 => 14x14x4  \n",
    "        self.conv_1 = torch.nn.Conv2d(in_channels=1,\n",
    "                                      out_channels=4,\n",
    "                                      kernel_size=(3, 3),\n",
    "                                      stride=(2, 2),\n",
    "                                      padding=0)\n",
    "        \n",
    "        # 14x14x4 => 7x7x8\n",
    "        self.conv_2 = torch.nn.Conv2d(in_channels=4,\n",
    "                                      out_channels=8,\n",
    "                                      kernel_size=(3, 3),\n",
    "                                      stride=(2, 2),\n",
    "                                      padding=1)\n",
    "        \n",
    "        # 7x7x8 => 4x4x12\n",
    "        self.conv_3 = torch.nn.Conv2d(in_channels=8,\n",
    "                                      out_channels=12,\n",
    "                                      kernel_size=(3, 3),\n",
    "                                      stride=(2, 2),\n",
    "                                      padding=1)\n",
    "        \n",
    "        # 4x4x12 => 2x2x16\n",
    "        self.conv_4 = torch.nn.Conv2d(in_channels=12,\n",
    "                                      out_channels=16,\n",
    "                                      kernel_size=(3, 3),\n",
    "                                      stride=(2, 2),\n",
    "                                      padding=1)  \n",
    "        \n",
    "        ### DECODER\n",
    "                                         \n",
    "        #  => 4x4x12                          \n",
    "        self.deconv_1 = torch.nn.ConvTranspose2d(in_channels=16,\n",
    "                                                 out_channels=12,\n",
    "                                                 kernel_size=(3, 3),\n",
    "                                                 stride=(1, 1),\n",
    "                                                 padding=0)\n",
    "        \n",
    "        #  => 7x7x8                         \n",
    "        self.deconv_2 = torch.nn.ConvTranspose2d(in_channels=12,\n",
    "                                                 out_channels=8,\n",
    "                                                 kernel_size=(3, 3),\n",
    "                                                 stride=(2, 2),\n",
    "                                                 padding=1)\n",
    "        \n",
    "        #  => 15x15x4  \n",
    "        self.deconv_3 = torch.nn.ConvTranspose2d(in_channels=8,\n",
    "                                                 out_channels=4,\n",
    "                                                 kernel_size=(3, 3),\n",
    "                                                 stride=(2, 2),\n",
    "                                                 padding=0)\n",
    "        \n",
    "        self.deconv_4 = torch.nn.ConvTranspose2d(in_channels=4,\n",
    "                                                 out_channels=1,\n",
    "                                                 kernel_size=(3, 3),\n",
    "                                                 stride=(2, 2),\n",
    "                                                 padding=1)\n",
    "        \n",
    "    def forward(self, x):\n",
    "        \n",
    "        ### ENCODER\n",
    "        x = self.conv_1(x)\n",
    "        x = F.leaky_relu(x)\n",
    "        x = self.conv_2(x)\n",
    "        x = F.leaky_relu(x)\n",
    "        x = self.conv_3(x)\n",
    "        x = F.leaky_relu(x)\n",
    "        x = self.conv_4(x)\n",
    "        x = F.leaky_relu(x)\n",
    "            \n",
    "        ### DECODER\n",
    "        x = self.deconv_1(x)  \n",
    "        x = F.leaky_relu(x)\n",
    "        x = self.deconv_2(x)\n",
    "        x = F.leaky_relu(x)\n",
    "        x = self.deconv_3(x)\n",
    "        x = F.leaky_relu(x)\n",
    "        x = self.deconv_4(x)\n",
    "        \n",
    "        x = x[:, :, :-1, :-1]\n",
    "        x = torch.sigmoid(x)\n",
    "        return x\n",
    "\n",
    "    \n",
    "torch.manual_seed(random_seed)\n",
    "model = ConvolutionalAutoencoder()\n",
    "model = model.to(device)\n",
    "\n",
    "optimizer = torch.optim.Adam(model.parameters(), lr=learning_rate)  "
   ]
  },
  {
   "cell_type": "markdown",
   "metadata": {},
   "source": [
    "## Training"
   ]
  },
  {
   "cell_type": "code",
   "execution_count": 5,
   "metadata": {},
   "outputs": [
    {
     "name": "stdout",
     "output_type": "stream",
     "text": [
      "Epoch: 001/010 | Batch 000/469 | Cost: 0.2320\n",
      "Epoch: 001/010 | Batch 050/469 | Cost: 0.0773\n",
      "Epoch: 001/010 | Batch 100/469 | Cost: 0.0696\n",
      "Epoch: 001/010 | Batch 150/469 | Cost: 0.0697\n",
      "Epoch: 001/010 | Batch 200/469 | Cost: 0.0644\n",
      "Epoch: 001/010 | Batch 250/469 | Cost: 0.0546\n",
      "Epoch: 001/010 | Batch 300/469 | Cost: 0.0430\n",
      "Epoch: 001/010 | Batch 350/469 | Cost: 0.0391\n",
      "Epoch: 001/010 | Batch 400/469 | Cost: 0.0355\n",
      "Epoch: 001/010 | Batch 450/469 | Cost: 0.0295\n",
      "Time elapsed: 0.14 min\n",
      "Epoch: 002/010 | Batch 000/469 | Cost: 0.0297\n",
      "Epoch: 002/010 | Batch 050/469 | Cost: 0.0272\n",
      "Epoch: 002/010 | Batch 100/469 | Cost: 0.0243\n",
      "Epoch: 002/010 | Batch 150/469 | Cost: 0.0248\n",
      "Epoch: 002/010 | Batch 200/469 | Cost: 0.0235\n",
      "Epoch: 002/010 | Batch 250/469 | Cost: 0.0222\n",
      "Epoch: 002/010 | Batch 300/469 | Cost: 0.0215\n",
      "Epoch: 002/010 | Batch 350/469 | Cost: 0.0208\n",
      "Epoch: 002/010 | Batch 400/469 | Cost: 0.0195\n",
      "Epoch: 002/010 | Batch 450/469 | Cost: 0.0187\n",
      "Time elapsed: 0.28 min\n",
      "Epoch: 003/010 | Batch 000/469 | Cost: 0.0180\n",
      "Epoch: 003/010 | Batch 050/469 | Cost: 0.0194\n",
      "Epoch: 003/010 | Batch 100/469 | Cost: 0.0185\n",
      "Epoch: 003/010 | Batch 150/469 | Cost: 0.0191\n",
      "Epoch: 003/010 | Batch 200/469 | Cost: 0.0172\n",
      "Epoch: 003/010 | Batch 250/469 | Cost: 0.0157\n",
      "Epoch: 003/010 | Batch 300/469 | Cost: 0.0170\n",
      "Epoch: 003/010 | Batch 350/469 | Cost: 0.0168\n",
      "Epoch: 003/010 | Batch 400/469 | Cost: 0.0166\n",
      "Epoch: 003/010 | Batch 450/469 | Cost: 0.0160\n",
      "Time elapsed: 0.42 min\n",
      "Epoch: 004/010 | Batch 000/469 | Cost: 0.0162\n",
      "Epoch: 004/010 | Batch 050/469 | Cost: 0.0155\n",
      "Epoch: 004/010 | Batch 100/469 | Cost: 0.0154\n",
      "Epoch: 004/010 | Batch 150/469 | Cost: 0.0170\n",
      "Epoch: 004/010 | Batch 200/469 | Cost: 0.0151\n",
      "Epoch: 004/010 | Batch 250/469 | Cost: 0.0152\n",
      "Epoch: 004/010 | Batch 300/469 | Cost: 0.0160\n",
      "Epoch: 004/010 | Batch 350/469 | Cost: 0.0164\n",
      "Epoch: 004/010 | Batch 400/469 | Cost: 0.0155\n",
      "Epoch: 004/010 | Batch 450/469 | Cost: 0.0150\n",
      "Time elapsed: 0.56 min\n",
      "Epoch: 005/010 | Batch 000/469 | Cost: 0.0139\n",
      "Epoch: 005/010 | Batch 050/469 | Cost: 0.0148\n",
      "Epoch: 005/010 | Batch 100/469 | Cost: 0.0149\n",
      "Epoch: 005/010 | Batch 150/469 | Cost: 0.0152\n",
      "Epoch: 005/010 | Batch 200/469 | Cost: 0.0144\n",
      "Epoch: 005/010 | Batch 250/469 | Cost: 0.0135\n",
      "Epoch: 005/010 | Batch 300/469 | Cost: 0.0134\n",
      "Epoch: 005/010 | Batch 350/469 | Cost: 0.0134\n",
      "Epoch: 005/010 | Batch 400/469 | Cost: 0.0142\n",
      "Epoch: 005/010 | Batch 450/469 | Cost: 0.0136\n",
      "Time elapsed: 0.70 min\n",
      "Epoch: 006/010 | Batch 000/469 | Cost: 0.0130\n",
      "Epoch: 006/010 | Batch 050/469 | Cost: 0.0131\n",
      "Epoch: 006/010 | Batch 100/469 | Cost: 0.0132\n",
      "Epoch: 006/010 | Batch 150/469 | Cost: 0.0133\n",
      "Epoch: 006/010 | Batch 200/469 | Cost: 0.0120\n",
      "Epoch: 006/010 | Batch 250/469 | Cost: 0.0126\n",
      "Epoch: 006/010 | Batch 300/469 | Cost: 0.0118\n",
      "Epoch: 006/010 | Batch 350/469 | Cost: 0.0130\n",
      "Epoch: 006/010 | Batch 400/469 | Cost: 0.0134\n",
      "Epoch: 006/010 | Batch 450/469 | Cost: 0.0116\n",
      "Time elapsed: 0.84 min\n",
      "Epoch: 007/010 | Batch 000/469 | Cost: 0.0129\n",
      "Epoch: 007/010 | Batch 050/469 | Cost: 0.0135\n",
      "Epoch: 007/010 | Batch 100/469 | Cost: 0.0120\n",
      "Epoch: 007/010 | Batch 150/469 | Cost: 0.0125\n",
      "Epoch: 007/010 | Batch 200/469 | Cost: 0.0125\n",
      "Epoch: 007/010 | Batch 250/469 | Cost: 0.0129\n",
      "Epoch: 007/010 | Batch 300/469 | Cost: 0.0122\n",
      "Epoch: 007/010 | Batch 350/469 | Cost: 0.0121\n",
      "Epoch: 007/010 | Batch 400/469 | Cost: 0.0132\n",
      "Epoch: 007/010 | Batch 450/469 | Cost: 0.0128\n",
      "Time elapsed: 0.98 min\n",
      "Epoch: 008/010 | Batch 000/469 | Cost: 0.0127\n",
      "Epoch: 008/010 | Batch 050/469 | Cost: 0.0110\n",
      "Epoch: 008/010 | Batch 100/469 | Cost: 0.0114\n",
      "Epoch: 008/010 | Batch 150/469 | Cost: 0.0117\n",
      "Epoch: 008/010 | Batch 200/469 | Cost: 0.0121\n",
      "Epoch: 008/010 | Batch 250/469 | Cost: 0.0118\n",
      "Epoch: 008/010 | Batch 300/469 | Cost: 0.0120\n",
      "Epoch: 008/010 | Batch 350/469 | Cost: 0.0121\n",
      "Epoch: 008/010 | Batch 400/469 | Cost: 0.0130\n",
      "Epoch: 008/010 | Batch 450/469 | Cost: 0.0126\n",
      "Time elapsed: 1.12 min\n",
      "Epoch: 009/010 | Batch 000/469 | Cost: 0.0110\n",
      "Epoch: 009/010 | Batch 050/469 | Cost: 0.0112\n",
      "Epoch: 009/010 | Batch 100/469 | Cost: 0.0116\n",
      "Epoch: 009/010 | Batch 150/469 | Cost: 0.0127\n",
      "Epoch: 009/010 | Batch 200/469 | Cost: 0.0119\n",
      "Epoch: 009/010 | Batch 250/469 | Cost: 0.0119\n",
      "Epoch: 009/010 | Batch 300/469 | Cost: 0.0124\n",
      "Epoch: 009/010 | Batch 350/469 | Cost: 0.0117\n",
      "Epoch: 009/010 | Batch 400/469 | Cost: 0.0121\n",
      "Epoch: 009/010 | Batch 450/469 | Cost: 0.0113\n",
      "Time elapsed: 1.26 min\n",
      "Epoch: 010/010 | Batch 000/469 | Cost: 0.0117\n",
      "Epoch: 010/010 | Batch 050/469 | Cost: 0.0114\n",
      "Epoch: 010/010 | Batch 100/469 | Cost: 0.0116\n",
      "Epoch: 010/010 | Batch 150/469 | Cost: 0.0115\n",
      "Epoch: 010/010 | Batch 200/469 | Cost: 0.0126\n",
      "Epoch: 010/010 | Batch 250/469 | Cost: 0.0114\n",
      "Epoch: 010/010 | Batch 300/469 | Cost: 0.0115\n",
      "Epoch: 010/010 | Batch 350/469 | Cost: 0.0126\n",
      "Epoch: 010/010 | Batch 400/469 | Cost: 0.0115\n",
      "Epoch: 010/010 | Batch 450/469 | Cost: 0.0113\n",
      "Time elapsed: 1.40 min\n",
      "Total Training Time: 1.40 min\n"
     ]
    }
   ],
   "source": [
    "start_time = time.time()\n",
    "for epoch in range(num_epochs):\n",
    "    for batch_idx, (features, targets) in enumerate(train_loader):\n",
    "        \n",
    "        # don't need labels, only the images (features)\n",
    "        features = features.to(device)\n",
    "\n",
    "        ### FORWARD AND BACK PROP\n",
    "        decoded = model(features)\n",
    "        cost = F.mse_loss(decoded, features)\n",
    "        optimizer.zero_grad()\n",
    "        \n",
    "        cost.backward()\n",
    "        \n",
    "        ### UPDATE MODEL PARAMETERS\n",
    "        optimizer.step()\n",
    "        \n",
    "        ### LOGGING\n",
    "        if not batch_idx % 50:\n",
    "            print ('Epoch: %03d/%03d | Batch %03d/%03d | Cost: %.4f' \n",
    "                   %(epoch+1, num_epochs, batch_idx, \n",
    "                     len(train_loader), cost))\n",
    "            \n",
    "    print('Time elapsed: %.2f min' % ((time.time() - start_time)/60))\n",
    "    \n",
    "print('Total Training Time: %.2f min' % ((time.time() - start_time)/60))"
   ]
  },
  {
   "cell_type": "markdown",
   "metadata": {},
   "source": [
    "## Evaluation"
   ]
  },
  {
   "cell_type": "code",
   "execution_count": 6,
   "metadata": {},
   "outputs": [
    {
     "data": {
      "image/png": "[encoded data removed]",
      "text/plain": [
       "<Figure size 1440x180 with 30 Axes>"
      ]
     },
     "metadata": {
      "needs_background": "light"
     },
     "output_type": "display_data"
    }
   ],
   "source": [
    "%matplotlib inline\n",
    "import matplotlib.pyplot as plt\n",
    "\n",
    "##########################\n",
    "### VISUALIZATION\n",
    "##########################\n",
    "\n",
    "n_images = 15\n",
    "image_width = 28\n",
    "\n",
    "fig, axes = plt.subplots(nrows=2, ncols=n_images, \n",
    "                         sharex=True, sharey=True, figsize=(20, 2.5))\n",
    "orig_images = features[:n_images]\n",
    "decoded_images = decoded[:n_images]\n",
    "\n",
    "for i in range(n_images):\n",
    "    for ax, img in zip(axes, [orig_images, decoded_images]):\n",
    "        curr_img = img[i].detach().to(torch.device('cpu'))\n",
    "        ax[i].imshow(curr_img.view((image_width, image_width)), cmap='binary')"
   ]
  },
  {
   "cell_type": "code",
   "execution_count": 7,
   "metadata": {},
   "outputs": [
    {
     "name": "stdout",
     "output_type": "stream",
     "text": [
      "numpy       1.15.4\n",
      "torch       1.0.1.post2\n",
      "\n"
     ]
    }
   ],
   "source": [
    "%watermark -iv"
   ]
  }
 ],
 "metadata": {
  "kernelspec": {
   "display_name": "Python 3",
   "language": "python",
   "name": "python3"
  },
  "language_info": {
   "codemirror_mode": {
    "name": "ipython",
    "version": 3
   },
   "file_extension": ".py",
   "mimetype": "text/x-python",
   "name": "python",
   "nbconvert_exporter": "python",
   "pygments_lexer": "ipython3",
   "version": "3.6.8"
  },
  "toc": {
   "nav_menu": {},
   "number_sections": true,
   "sideBar": true,
   "skip_h1_title": false,
   "title_cell": "Table of Contents",
   "title_sidebar": "Contents",
   "toc_cell": false,
   "toc_position": {},
   "toc_section_display": true,
   "toc_window_display": false
  }
 },
 "nbformat": 4,
 "nbformat_minor": 2
}
